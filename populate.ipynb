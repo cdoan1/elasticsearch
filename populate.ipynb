{
 "cells": [
  {
   "cell_type": "code",
   "execution_count": 3,
   "metadata": {
    "collapsed": false
   },
   "outputs": [],
   "source": [
    "from elasticsearch import Elasticsearch\n",
    "from pprint import pprint\n",
    "\n",
    "es = Elasticsearch(\n",
    "    'localhost',\n",
    "    # sniff before doing anything\n",
    "    sniff_on_start=True,\n",
    "    # refresh nodes after a node fails to respond\n",
    "    sniff_on_connection_fail=True,\n",
    "    # and also every 60 seconds\n",
    "    sniffer_timeout=60\n",
    ")\n",
    "\n",
    "f = open('examples.json', 'r')\n",
    "data = f.read()\n",
    "\n",
    "response = es.bulk(body=data)"
   ]
  },
  {
   "cell_type": "code",
   "execution_count": 4,
   "metadata": {
    "collapsed": false
   },
   "outputs": [
    {
     "name": "stdout",
     "output_type": "stream",
     "text": [
      "{'errors': True, 'took': 9, 'items': [{'create': {'_index': 'us', 'error': {'type': 'version_conflict_engine_exception', 'index_uuid': 'sQ_6TnzsRGK9BJj8JDcoSw', 'reason': '[user][1]: version conflict, document already exists (current version [1])', 'index': 'us', 'shard': '3'}, '_id': '1', '_type': 'user', 'status': 409}}, {'create': {'_index': 'gb', 'error': {'type': 'version_conflict_engine_exception', 'index_uuid': 'cI2I1PfTTh-kfh3gUsIebA', 'reason': '[user][2]: version conflict, document already exists (current version [1])', 'index': 'gb', 'shard': '2'}, '_id': '2', '_type': 'user', 'status': 409}}, {'create': {'_index': 'gb', 'error': {'type': 'version_conflict_engine_exception', 'index_uuid': 'cI2I1PfTTh-kfh3gUsIebA', 'reason': '[tweet][3]: version conflict, document already exists (current version [1])', 'index': 'gb', 'shard': '4'}, '_id': '3', '_type': 'tweet', 'status': 409}}, {'create': {'_index': 'us', 'error': {'type': 'version_conflict_engine_exception', 'index_uuid': 'sQ_6TnzsRGK9BJj8JDcoSw', 'reason': '[tweet][4]: version conflict, document already exists (current version [1])', 'index': 'us', 'shard': '2'}, '_id': '4', '_type': 'tweet', 'status': 409}}, {'create': {'_index': 'gb', 'error': {'type': 'version_conflict_engine_exception', 'index_uuid': 'cI2I1PfTTh-kfh3gUsIebA', 'reason': '[tweet][5]: version conflict, document already exists (current version [1])', 'index': 'gb', 'shard': '1'}, '_id': '5', '_type': 'tweet', 'status': 409}}, {'create': {'_index': 'us', 'error': {'type': 'version_conflict_engine_exception', 'index_uuid': 'sQ_6TnzsRGK9BJj8JDcoSw', 'reason': '[tweet][6]: version conflict, document already exists (current version [1])', 'index': 'us', 'shard': '2'}, '_id': '6', '_type': 'tweet', 'status': 409}}, {'create': {'_index': 'gb', 'error': {'type': 'version_conflict_engine_exception', 'index_uuid': 'cI2I1PfTTh-kfh3gUsIebA', 'reason': '[tweet][7]: version conflict, document already exists (current version [1])', 'index': 'gb', 'shard': '3'}, '_id': '7', '_type': 'tweet', 'status': 409}}, {'create': {'_index': 'us', 'error': {'type': 'version_conflict_engine_exception', 'index_uuid': 'sQ_6TnzsRGK9BJj8JDcoSw', 'reason': '[tweet][8]: version conflict, document already exists (current version [1])', 'index': 'us', 'shard': '1'}, '_id': '8', '_type': 'tweet', 'status': 409}}, {'create': {'_index': 'gb', 'error': {'type': 'version_conflict_engine_exception', 'index_uuid': 'cI2I1PfTTh-kfh3gUsIebA', 'reason': '[tweet][9]: version conflict, document already exists (current version [1])', 'index': 'gb', 'shard': '1'}, '_id': '9', '_type': 'tweet', 'status': 409}}, {'create': {'_index': 'us', 'error': {'type': 'version_conflict_engine_exception', 'index_uuid': 'sQ_6TnzsRGK9BJj8JDcoSw', 'reason': '[tweet][10]: version conflict, document already exists (current version [1])', 'index': 'us', 'shard': '1'}, '_id': '10', '_type': 'tweet', 'status': 409}}, {'create': {'_index': 'gb', 'error': {'type': 'version_conflict_engine_exception', 'index_uuid': 'cI2I1PfTTh-kfh3gUsIebA', 'reason': '[tweet][11]: version conflict, document already exists (current version [1])', 'index': 'gb', 'shard': '4'}, '_id': '11', '_type': 'tweet', 'status': 409}}, {'create': {'_index': 'us', 'error': {'type': 'version_conflict_engine_exception', 'index_uuid': 'sQ_6TnzsRGK9BJj8JDcoSw', 'reason': '[tweet][12]: version conflict, document already exists (current version [1])', 'index': 'us', 'shard': '1'}, '_id': '12', '_type': 'tweet', 'status': 409}}, {'create': {'_index': 'gb', 'error': {'type': 'version_conflict_engine_exception', 'index_uuid': 'cI2I1PfTTh-kfh3gUsIebA', 'reason': '[tweet][13]: version conflict, document already exists (current version [1])', 'index': 'gb', 'shard': '3'}, '_id': '13', '_type': 'tweet', 'status': 409}}, {'create': {'_index': 'us', 'error': {'type': 'version_conflict_engine_exception', 'index_uuid': 'sQ_6TnzsRGK9BJj8JDcoSw', 'reason': '[tweet][14]: version conflict, document already exists (current version [1])', 'index': 'us', 'shard': '0'}, '_id': '14', '_type': 'tweet', 'status': 409}}]}\n"
     ]
    }
   ],
   "source": [
    "asset print(response)"
   ]
  },
  {
   "cell_type": "code",
   "execution_count": null,
   "metadata": {
    "collapsed": true
   },
   "outputs": [],
   "source": []
  }
 ],
 "metadata": {
  "kernelspec": {
   "display_name": "Python 3",
   "language": "python",
   "name": "python3"
  },
  "language_info": {
   "codemirror_mode": {
    "name": "ipython",
    "version": 3
   },
   "file_extension": ".py",
   "mimetype": "text/x-python",
   "name": "python",
   "nbconvert_exporter": "python",
   "pygments_lexer": "ipython3",
   "version": "3.5.1"
  }
 },
 "nbformat": 4,
 "nbformat_minor": 0
}
