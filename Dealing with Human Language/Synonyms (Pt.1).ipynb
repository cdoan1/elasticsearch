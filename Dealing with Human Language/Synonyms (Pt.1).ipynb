{
 "cells": [
  {
   "cell_type": "markdown",
   "metadata": {},
   "source": [
    "## Elasticsearch: The Definitive Guide - Python\n",
    "\n",
    "Following the examples in the book, here are Python snippets that achieve the same effect.\n",
    "\n",
    "Documentation for the Python libs:\n",
    "\n",
    "Low-level API:\n",
    "\n",
    "https://elasticsearch-py.readthedocs.io/en/master/index.html\n",
    "\n",
    "Expressive DSL API (more \"Pythonic\")\n",
    "\n",
    "http://elasticsearch-dsl.readthedocs.io/en/latest/index.html\n",
    "\n",
    "Github repo for DSL API:\n",
    "\n",
    "https://github.com/elastic/elasticsearch-dsl-py\n"
   ]
  },
  {
   "cell_type": "code",
   "execution_count": 1,
   "metadata": {
    "collapsed": false
   },
   "outputs": [],
   "source": [
    "import sys, os\n",
    "sys.path.insert(1, os.path.join(sys.path[0], '..'))"
   ]
  },
  {
   "cell_type": "code",
   "execution_count": 2,
   "metadata": {
    "collapsed": false
   },
   "outputs": [
    {
     "name": "stdout",
     "output_type": "stream",
     "text": [
      "14 items created\n"
     ]
    }
   ],
   "source": [
    "import index\n",
    "from elasticsearch import Elasticsearch\n",
    "from elasticsearch_dsl import Search, Q\n",
    "from pprint import pprint\n",
    "\n",
    "es = Elasticsearch(\n",
    "    'localhost',\n",
    "    # sniff before doing anything\n",
    "    sniff_on_start=True,\n",
    "    # refresh nodes after a node fails to respond\n",
    "    sniff_on_connection_fail=True,\n",
    "    # and also every 60 seconds\n",
    "    sniffer_timeout=60\n",
    ")\n",
    "\n",
    "r = index.populate()\n",
    "print('{} items created'.format(len(r['items'])))\n",
    "\n",
    "# Let's repopulate the index as we deleted 'gb' in earlier chapters:\n",
    "# Run the script: populate.ipynb"
   ]
  },
  {
   "cell_type": "markdown",
   "metadata": {
    "collapsed": true
   },
   "source": [
    "### Synonyms\n",
    "\n",
    "While stemming helps to broaden the scope of search by simplifying inflected words to their root form, synonyms broaden the scope by relating concepts and ideas. Perhaps no documents match a query for “English queen,” but documents that contain “British monarch” would probably be considered a good match.\n",
    "\n",
    "A user might search for “the US” and expect to find documents that contain United States, USA, U.S.A., America, or the States. However, they wouldn’t expect to see results about the states of matter or state machines.\n",
    "\n",
    "This example provides a valuable lesson. It demonstrates how simple it is for a human to distinguish between separate concepts, and how tricky it can be for mere machines.\n",
    "\n",
    "Synonyms can be used to conflate words that have pretty much the same meaning, such as jump, leap, and hop, or pamphlet, leaflet, and brochure. Alternatively, they can be used to make a word more generic. For instance, bird could be used as a more general synonym for owl or pigeon, and adult could be used for man or woman.\n",
    "\n",
    "Synonyms are used to broaden the scope of what is considered a matching document. Just as with stemming or partial matching, synonym fields should not be used alone but should be combined with a query on a main field that contains the original text in unadulterated form. See [Most Fields](https://www.elastic.co/guide/en/elasticsearch/guide/master/most-fields.html) for an explanation of how to maintain relevance when using synonyms.\n",
    "\n",
    "#### Using Synonyms\n",
    "\n",
    "Use via the `synonym` token filter:"
   ]
  },
  {
   "cell_type": "code",
   "execution_count": 4,
   "metadata": {
    "collapsed": true
   },
   "outputs": [],
   "source": [
    "settings = {\n",
    "  \"settings\": {\n",
    "    \"analysis\": {\n",
    "      \"filter\": {\n",
    "        \"my_synonym_filter\": {\n",
    "          \"type\": \"synonym\", \n",
    "          \"synonyms\": [ \n",
    "            \"british,english\",\n",
    "            \"queen,monarch\"\n",
    "          ]\n",
    "        }\n",
    "      },\n",
    "      \"analyzer\": {\n",
    "        \"my_synonyms\": {\n",
    "          \"tokenizer\": \"standard\",\n",
    "          \"filter\": [\n",
    "            \"lowercase\",\n",
    "            \"my_synonym_filter\" \n",
    "          ]\n",
    "        }\n",
    "      }\n",
    "    }\n",
    "  }\n",
    "}\n",
    "index.create_my_index(body=settings)"
   ]
  },
  {
   "cell_type": "code",
   "execution_count": 13,
   "metadata": {
    "collapsed": false
   },
   "outputs": [
    {
     "name": "stdout",
     "output_type": "stream",
     "text": [
      "Pos 0: (elizabeth)\n",
      "Pos 1: (is)\n",
      "Pos 2: (the)\n",
      "Pos 3: (english)\n",
      "Pos 3: (british)\n",
      "Pos 4: (queen)\n",
      "Pos 4: (monarch)\n"
     ]
    }
   ],
   "source": [
    "# test with my_synonyms\n",
    "text = \"Elizabeth is the English queen\" \n",
    "analyzed_text = [[x['position'],x['token']] for x in es.indices.analyze\\\n",
    "                 (index='my_index', analyzer='my_synonyms', text=text)['tokens']]\n",
    "for item in analyzed_text:\n",
    "    print('Pos {}: ({})'.format(item[0],item[1]))"
   ]
  },
  {
   "cell_type": "code",
   "execution_count": 14,
   "metadata": {
    "collapsed": false
   },
   "outputs": [
    {
     "data": {
      "text/plain": [
       "{'_id': '1',\n",
       " '_index': 'my_index',\n",
       " '_shards': {'failed': 0, 'successful': 1, 'total': 2},\n",
       " '_type': 'test',\n",
       " '_version': 1,\n",
       " 'created': True,\n",
       " 'result': 'created'}"
      ]
     },
     "execution_count": 14,
     "metadata": {},
     "output_type": "execute_result"
    }
   ],
   "source": [
    "# Let's try some actual searchs:\n",
    "body = { \"text\": text }\n",
    "es.create(index='my_index', doc_type='test', body=body, id=1)"
   ]
  },
  {
   "cell_type": "code",
   "execution_count": 27,
   "metadata": {
    "collapsed": false
   },
   "outputs": [
    {
     "data": {
      "text/plain": [
       "<Response: []>"
      ]
     },
     "execution_count": 27,
     "metadata": {},
     "output_type": "execute_result"
    }
   ],
   "source": [
    "s = Search(using=es)\n",
    "s = s.query('match', text='monarch')\n",
    "s.execute()"
   ]
  },
  {
   "cell_type": "markdown",
   "metadata": {},
   "source": [
    "Hmmm. Nothing here. We've seen this before. What's going on?\n",
    "\n",
    "Let's try using the analyzer on the inbound search:"
   ]
  },
  {
   "cell_type": "code",
   "execution_count": 38,
   "metadata": {
    "collapsed": false
   },
   "outputs": [
    {
     "data": {
      "text/plain": [
       "{'hits': [{'_id': '1',\n",
       "   '_index': 'my_index',\n",
       "   '_score': 0.2824934,\n",
       "   '_source': {'text': 'Elizabeth is the English queen'},\n",
       "   '_type': 'test'}],\n",
       " 'max_score': 0.2824934,\n",
       " 'total': 1}"
      ]
     },
     "execution_count": 38,
     "metadata": {},
     "output_type": "execute_result"
    }
   ],
   "source": [
    "# Using Lucene query string syntax:\n",
    "q = 'text:monarch'\n",
    "res = es.search(index='my_index', doc_type='test', analyzer='my_synonyms', q=q)\n",
    "res['hits']"
   ]
  },
  {
   "cell_type": "code",
   "execution_count": 39,
   "metadata": {
    "collapsed": false
   },
   "outputs": [
    {
     "data": {
      "text/plain": [
       "{'hits': [{'_id': '1',\n",
       "   '_index': 'my_index',\n",
       "   '_score': 0.2824934,\n",
       "   '_source': {'text': 'Elizabeth is the English queen'},\n",
       "   '_type': 'test'}],\n",
       " 'max_score': 0.2824934,\n",
       " 'total': 1}"
      ]
     },
     "execution_count": 39,
     "metadata": {},
     "output_type": "execute_result"
    }
   ],
   "source": [
    "# Using Query DSL:\n",
    "query = {\n",
    "    \"query\": {\n",
    "        \"match\" : {\n",
    "            \"text\" : {\n",
    "                \"query\" : \"monarch\",\n",
    "                \"analyzer\" : \"my_synonyms\",\n",
    "            }\n",
    "        }\n",
    "    }\n",
    "}\n",
    "res = es.search(index='my_index', doc_type='test', analyzer='my_synonyms', q=q)\n",
    "res['hits']"
   ]
  },
  {
   "cell_type": "raw",
   "metadata": {},
   "source": [
    "Note that these queries are using the analyzer at query time, not index time. We did not map the analyzer to the \"text\" field and so it won't be indexed in this fashion. Let's firt get the mapping to confirm:"
   ]
  },
  {
   "cell_type": "code",
   "execution_count": 45,
   "metadata": {
    "collapsed": false
   },
   "outputs": [
    {
     "data": {
      "text/plain": [
       "{'my_index': {'mappings': {'test': {'text': {'full_name': 'text',\n",
       "     'mapping': {'text': {'fields': {'keyword': {'ignore_above': 256,\n",
       "         'type': 'keyword'}},\n",
       "       'type': 'text'}}}}}}}"
      ]
     },
     "execution_count": 45,
     "metadata": {},
     "output_type": "execute_result"
    }
   ],
   "source": [
    "es.indices.get_field_mapping(index='my_index', doc_type='test', fields='text')"
   ]
  },
  {
   "cell_type": "markdown",
   "metadata": {},
   "source": [
    "As we can see, there is no mention of an analyzer. Let's re-create the index and add the mapping."
   ]
  },
  {
   "cell_type": "code",
   "execution_count": 52,
   "metadata": {
    "collapsed": true
   },
   "outputs": [],
   "source": [
    "settings = {\n",
    "  \"settings\": {\n",
    "    \"analysis\": {\n",
    "      \"filter\": {\n",
    "        \"my_synonym_filter\": {\n",
    "          \"type\": \"synonym\", \n",
    "          \"synonyms\": [ \n",
    "            \"british,english\",\n",
    "            \"queen,monarch\"\n",
    "          ]\n",
    "        }\n",
    "      },\n",
    "      \"analyzer\": {\n",
    "        \"my_synonyms\": {\n",
    "          \"tokenizer\": \"standard\",\n",
    "          \"filter\": [\n",
    "            \"lowercase\",\n",
    "            \"my_synonym_filter\" \n",
    "          ]\n",
    "        }\n",
    "      }\n",
    "    }\n",
    "  },\n",
    "    \"mappings\": {\n",
    "    \"test\": {\n",
    "      \"properties\": {\n",
    "        \"text\": {\n",
    "          \"type\":  \"text\",\n",
    "          \"analyzer\": \"my_synonyms\"\n",
    "        }\n",
    "      }\n",
    "    }\n",
    "  }\n",
    "}\n",
    "index.create_my_index(body=settings)"
   ]
  },
  {
   "cell_type": "code",
   "execution_count": 53,
   "metadata": {
    "collapsed": false
   },
   "outputs": [
    {
     "data": {
      "text/plain": [
       "{'my_index': {'mappings': {'test': {'text': {'full_name': 'text',\n",
       "     'mapping': {'text': {'analyzer': 'my_synonyms', 'type': 'text'}}}}}}}"
      ]
     },
     "execution_count": 53,
     "metadata": {},
     "output_type": "execute_result"
    }
   ],
   "source": [
    "es.indices.get_field_mapping(index='my_index', doc_type='test', fields='text')"
   ]
  },
  {
   "cell_type": "code",
   "execution_count": 54,
   "metadata": {
    "collapsed": false
   },
   "outputs": [
    {
     "data": {
      "text/plain": [
       "{'_id': '1',\n",
       " '_index': 'my_index',\n",
       " '_shards': {'failed': 0, 'successful': 1, 'total': 2},\n",
       " '_type': 'test',\n",
       " '_version': 1,\n",
       " 'created': True,\n",
       " 'result': 'created'}"
      ]
     },
     "execution_count": 54,
     "metadata": {},
     "output_type": "execute_result"
    }
   ],
   "source": [
    "text = \"Elizabeth is the English queen\" \n",
    "body = { \"text\": text }\n",
    "es.create(index='my_index', doc_type='test', body=body, id=1)"
   ]
  },
  {
   "cell_type": "code",
   "execution_count": 56,
   "metadata": {
    "collapsed": false
   },
   "outputs": [
    {
     "data": {
      "text/plain": [
       "<Response: [<Hit(my_index/test/1): {'text': 'Elizabeth is the English queen'}>]>"
      ]
     },
     "execution_count": 56,
     "metadata": {},
     "output_type": "execute_result"
    }
   ],
   "source": [
    "# search for monarch again\n",
    "s = Search(using=es)\n",
    "s = s.query('match', text='monarch')\n",
    "s.execute()"
   ]
  },
  {
   "cell_type": "markdown",
   "metadata": {},
   "source": [
    "Voila! It works! (Of course.)\n",
    "\n",
    "We can double-check this with a boolean search:"
   ]
  },
  {
   "cell_type": "code",
   "execution_count": 58,
   "metadata": {
    "collapsed": false
   },
   "outputs": [
    {
     "data": {
      "text/plain": [
       "<Response: [<Hit(my_index/test/1): {'text': 'Elizabeth is the English queen'}>]>"
      ]
     },
     "execution_count": 58,
     "metadata": {},
     "output_type": "execute_result"
    }
   ],
   "source": [
    "q = Q('match', text='english') & Q('match', text='monarch')\n",
    "s = Search(using=es).query(q)\n",
    "s.execute()"
   ]
  },
  {
   "cell_type": "code",
   "execution_count": 60,
   "metadata": {
    "collapsed": false
   },
   "outputs": [
    {
     "data": {
      "text/plain": [
       "<Response: [<Hit(my_index/test/1): {'text': 'Elizabeth is the English queen'}>]>"
      ]
     },
     "execution_count": 60,
     "metadata": {},
     "output_type": "execute_result"
    }
   ],
   "source": [
    "# Using explicit boolean search, but with 'British Monarch':\n",
    "q = Q('bool',\n",
    "      must=[Q('match', text='british'), Q('match', text='monarch')])\n",
    "s = Search(using=es).query(q)\n",
    "s.execute()"
   ]
  },
  {
   "cell_type": "code",
   "execution_count": 62,
   "metadata": {
    "collapsed": false
   },
   "outputs": [
    {
     "data": {
      "text/plain": [
       "<Response: [<Hit(my_index/test/1): {'text': 'Elizabeth is the English queen'}>]>"
      ]
     },
     "execution_count": 62,
     "metadata": {},
     "output_type": "execute_result"
    }
   ],
   "source": [
    "# Or this:\n",
    "q = {\n",
    "    \"match\": {\n",
    "        \"text\": {\n",
    "            \"query\":    \"british monarch\",\n",
    "            \"minimum_should_match\": \"100%\"\n",
    "        }\n",
    "    }\n",
    "}\n",
    "s = Search(using=es).query(q)\n",
    "s.execute()"
   ]
  },
  {
   "cell_type": "code",
   "execution_count": 63,
   "metadata": {
    "collapsed": true
   },
   "outputs": [],
   "source": [
    "# Now let's use the => syntax for synonyms:\n",
    "settings = {\n",
    "  \"settings\": {\n",
    "    \"analysis\": {\n",
    "      \"filter\": {\n",
    "        \"my_synonym_filter\": {\n",
    "          \"type\": \"synonym\", \n",
    "          \"synonyms\": [ \n",
    "            \"british => english\",\n",
    "            \"queen => monarch, ruler\"\n",
    "          ]\n",
    "        }\n",
    "      },\n",
    "      \"analyzer\": {\n",
    "        \"my_synonyms\": {\n",
    "          \"tokenizer\": \"standard\",\n",
    "          \"filter\": [\n",
    "            \"lowercase\",\n",
    "            \"my_synonym_filter\" \n",
    "          ]\n",
    "        }\n",
    "      }\n",
    "    }\n",
    "  },\n",
    "    \"mappings\": {\n",
    "    \"test\": {\n",
    "      \"properties\": {\n",
    "        \"text\": {\n",
    "          \"type\":  \"text\",\n",
    "          \"analyzer\": \"my_synonyms\"\n",
    "        }\n",
    "      }\n",
    "    }\n",
    "  }\n",
    "}\n",
    "index.create_my_index(body=settings)"
   ]
  },
  {
   "cell_type": "code",
   "execution_count": 64,
   "metadata": {
    "collapsed": false
   },
   "outputs": [
    {
     "name": "stdout",
     "output_type": "stream",
     "text": [
      "Pos 0: (elizabeth)\n",
      "Pos 1: (is)\n",
      "Pos 2: (the)\n",
      "Pos 3: (english)\n",
      "Pos 4: (monarch)\n",
      "Pos 4: (ruler)\n"
     ]
    }
   ],
   "source": [
    "# test with my_synonyms - let's see what the analyzer does with our => mappings:\n",
    "text = \"Elizabeth is the English queen\" \n",
    "analyzed_text = [[x['position'],x['token']] for x in es.indices.analyze\\\n",
    "                 (index='my_index', analyzer='my_synonyms', text=text)['tokens']]\n",
    "for item in analyzed_text:\n",
    "    print('Pos {}: ({})'.format(item[0],item[1]))"
   ]
  },
  {
   "cell_type": "code",
   "execution_count": 65,
   "metadata": {
    "collapsed": false
   },
   "outputs": [
    {
     "data": {
      "text/plain": [
       "{'_id': '1',\n",
       " '_index': 'my_index',\n",
       " '_shards': {'failed': 0, 'successful': 1, 'total': 2},\n",
       " '_type': 'test',\n",
       " '_version': 1,\n",
       " 'created': True,\n",
       " 'result': 'created'}"
      ]
     },
     "execution_count": 65,
     "metadata": {},
     "output_type": "execute_result"
    }
   ],
   "source": [
    "# What happens when we put the document in the index\n",
    "text = \"Elizabeth is the English queen\" \n",
    "body = { \"text\": text }\n",
    "es.create(index='my_index', doc_type='test', body=body, id=1)"
   ]
  },
  {
   "cell_type": "code",
   "execution_count": 66,
   "metadata": {
    "collapsed": false
   },
   "outputs": [
    {
     "data": {
      "text/plain": [
       "<Response: [<Hit(my_index/test/1): {'text': 'Elizabeth is the English queen'}>]>"
      ]
     },
     "execution_count": 66,
     "metadata": {},
     "output_type": "execute_result"
    }
   ],
   "source": [
    "# And now search it using a synonym:\n",
    "s = Search(using=es)\n",
    "s = s.query('match', text='monarch')\n",
    "s.execute()"
   ]
  },
  {
   "cell_type": "code",
   "execution_count": 67,
   "metadata": {
    "collapsed": false
   },
   "outputs": [
    {
     "data": {
      "text/plain": [
       "<Response: [<Hit(my_index/test/1): {'text': 'Elizabeth is the English queen'}>]>"
      ]
     },
     "execution_count": 67,
     "metadata": {},
     "output_type": "execute_result"
    }
   ],
   "source": [
    "# And now search it using the original text:\n",
    "s = Search(using=es)\n",
    "s = s.query('match', text='queen')\n",
    "s.execute()"
   ]
  },
  {
   "cell_type": "code",
   "execution_count": 74,
   "metadata": {
    "collapsed": false
   },
   "outputs": [
    {
     "data": {
      "text/html": [
       "<div id=\"17a60907-4d32-4aca-8e02-ec074b4c8095\" style=\"height: 600px; width:100%;\"></div>"
      ]
     },
     "metadata": {},
     "output_type": "display_data"
    },
    {
     "data": {
      "application/javascript": [
       "\n",
       "        require([\"https://rawgit.com/caldwell/renderjson/master/renderjson.js\"], function() {\n",
       "        document.getElementById('17a60907-4d32-4aca-8e02-ec074b4c8095').appendChild(renderjson([{'_index': 'my_index', '_node': 'nKjjkxx5SfWhB1vabVu5ig', '_id': '1', '_source': {'text': 'Elizabeth is the English queen'}, '_score': 0.3037427, '_shard': '[my_index][3]', '_type': 'test', '_explanation': {'value': 0.30374268, 'details': [{'value': 0.30374268, 'details': [{'value': 0.2876821, 'details': [{'value': 1.0, 'details': [], 'description': 'docFreq'}, {'value': 1.0, 'details': [], 'description': 'docCount'}], 'description': 'idf, computed as log(1 + (docCount - docFreq + 0.5) / (docFreq + 0.5)) from:'}, {'value': 1.0558276, 'details': [{'value': 1.0, 'details': [], 'description': 'termFreq=1.0'}, {'value': 1.2, 'details': [], 'description': 'parameter k1'}, {'value': 0.75, 'details': [], 'description': 'parameter b'}, {'value': 6.0, 'details': [], 'description': 'avgFieldLength'}, {'value': 5.2244897, 'details': [], 'description': 'fieldLength'}], 'description': 'tfNorm, computed as (freq * (k1 + 1)) / (freq + k1 * (1 - b + b * fieldLength / avgFieldLength)) from:'}], 'description': 'score(doc=0,freq=1.0 = termFreq=1.0\\n), product of:'}], 'description': 'weight(text:ruler in 0) [PerFieldSimilarity], result of:'}}]))\n",
       "        });\n",
       "        "
      ]
     },
     "metadata": {},
     "output_type": "display_data"
    }
   ],
   "source": [
    "# What's going on?\n",
    "s = Search(using=es)\n",
    "s = s.extra(explain=True)\n",
    "s = s.query('match', text='ruler')\n",
    "res = s.execute()\n",
    "index.RenderJSON(res['hits']['hits'])"
   ]
  },
  {
   "cell_type": "code",
   "execution_count": null,
   "metadata": {
    "collapsed": true
   },
   "outputs": [],
   "source": []
  }
 ],
 "metadata": {
  "kernelspec": {
   "display_name": "Python 3",
   "language": "python",
   "name": "python3"
  },
  "language_info": {
   "codemirror_mode": {
    "name": "ipython",
    "version": 3
   },
   "file_extension": ".py",
   "mimetype": "text/x-python",
   "name": "python",
   "nbconvert_exporter": "python",
   "pygments_lexer": "ipython3",
   "version": "3.5.1"
  }
 },
 "nbformat": 4,
 "nbformat_minor": 0
}
