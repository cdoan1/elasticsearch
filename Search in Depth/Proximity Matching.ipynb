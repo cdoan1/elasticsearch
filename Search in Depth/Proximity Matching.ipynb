{
 "cells": [
  {
   "cell_type": "markdown",
   "metadata": {},
   "source": [
    "## Elasticsearch: The Definitive Guide - Python\n",
    "\n",
    "Following the examples in the book, here are Python snippets that achieve the same effect.\n",
    "\n",
    "Documentation for the Python libs:\n",
    "\n",
    "Low-level API:\n",
    "\n",
    "https://elasticsearch-py.readthedocs.io/en/master/index.html\n",
    "\n",
    "Expressive DSL API (more \"Pythonic\")\n",
    "\n",
    "http://elasticsearch-dsl.readthedocs.io/en/latest/index.html\n",
    "\n",
    "Github repo for DSL API:\n",
    "\n",
    "https://github.com/elastic/elasticsearch-dsl-py\n"
   ]
  },
  {
   "cell_type": "code",
   "execution_count": 2,
   "metadata": {
    "collapsed": false
   },
   "outputs": [],
   "source": [
    "import sys, os\n",
    "sys.path.insert(1, os.path.join(sys.path[0], '..'))"
   ]
  },
  {
   "cell_type": "code",
   "execution_count": 3,
   "metadata": {
    "collapsed": false
   },
   "outputs": [],
   "source": [
    "import index\n",
    "from elasticsearch import Elasticsearch\n",
    "from elasticsearch_dsl import Search, Q, Index\n",
    "from pprint import pprint\n",
    "\n",
    "es = Elasticsearch(\n",
    "    'localhost',\n",
    "    # sniff before doing anything\n",
    "    sniff_on_start=True,\n",
    "    # refresh nodes after a node fails to respond\n",
    "    sniff_on_connection_fail=True,\n",
    "    # and also every 60 seconds\n",
    "    sniffer_timeout=60\n",
    ")\n",
    "\n",
    "r = index.load_sid_examples(settings={ \"settings\": { \"number_of_shards\": 1 }},set=3)\n",
    "#print('{} items created'.format(len(r['items'])))\n",
    "\n",
    "# Let's repopulate the index as we deleted 'gb' in earlier chapters:\n",
    "# Run the script: populate.ipynb"
   ]
  },
  {
   "cell_type": "markdown",
   "metadata": {
    "collapsed": true
   },
   "source": [
    "### Phrase Matching\n",
    "\n",
    "In the same way that the match query is the go-to query for standard full-text search, the match_phrase query is the one you should reach for when you want to find words that are near each other:\n",
    "    \n",
    "\n"
   ]
  },
  {
   "cell_type": "code",
   "execution_count": 4,
   "metadata": {
    "collapsed": false
   },
   "outputs": [
    {
     "data": {
      "text/plain": [
       "<Response: [<Hit(my_index/my_type/1): {'title': 'The quick brown fox'}>, <Hit(my_index/my_type/2): {'title': 'The quick brown fox jumps over the lazy dog'}>, <Hit(my_index/my_type/3): {'title': 'The quick brown fox jumps over the quick dog'}>]>"
      ]
     },
     "execution_count": 4,
     "metadata": {},
     "output_type": "execute_result"
    }
   ],
   "source": [
    "s = Index('my_index', using=es).search()\n",
    "s = s.query(Q('match_phrase', title=\"quick brown fox\"))\n",
    "s.execute()"
   ]
  },
  {
   "cell_type": "markdown",
   "metadata": {},
   "source": [
    "Like the `match` query, the `match_phrase` query first analyzes the query string to produce a list of terms. It then searches for all the terms, but keeps only documents that contain all of the search terms, in the same positions relative to each other. A query for the phrase quick fox would not match any of our documents, because no document contains the word quick immediately followed by fox.\n",
    "\n",
    "Can also be written as a `match` query with type `phrase`:"
   ]
  },
  {
   "cell_type": "code",
   "execution_count": 8,
   "metadata": {
    "collapsed": false
   },
   "outputs": [
    {
     "data": {
      "text/plain": [
       "<Response: [<Hit(my_index/my_type/1): {'title': 'The quick brown fox'}>, <Hit(my_index/my_type/2): {'title': 'The quick brown fox jumps over the lazy dog'}>, <Hit(my_index/my_type/3): {'title': 'The quick brown fox jumps over the quick dog'}>]>"
      ]
     },
     "execution_count": 8,
     "metadata": {},
     "output_type": "execute_result"
    }
   ],
   "source": [
    "s = Index('my_index', using=es).search()\n",
    "s = s.query(Q('match', title={\"query\": \"quick brown fox\", \"type\":\"phrase\"}))\n",
    "s.execute()\n"
   ]
  },
  {
   "cell_type": "code",
   "execution_count": 6,
   "metadata": {
    "collapsed": false
   },
   "outputs": [
    {
     "data": {
      "text/plain": [
       "<Response: [<Hit(my_index/address/0): {'postcode': 'W1V 3DG'}>, <Hit(my_index/address/2): {'postcode': 'W1F 7HW'}>]>"
      ]
     },
     "execution_count": 6,
     "metadata": {},
     "output_type": "execute_result"
    }
   ],
   "source": [
    "s = Index('my_index', using=es).search()\n",
    "s = s.query(Q('prefix', postcode=\"W1\"))\n",
    "s.execute()"
   ]
  },
  {
   "cell_type": "markdown",
   "metadata": {},
   "source": [
    "#### Term Positions\n",
    "\n",
    "When a string is analyzed, the analyzer returns not only a list of terms, but also the position, or order, of each term in the original string:\n"
   ]
  },
  {
   "cell_type": "code",
   "execution_count": 9,
   "metadata": {
    "collapsed": false
   },
   "outputs": [
    {
     "data": {
      "text/plain": [
       "{'tokens': [{'end_offset': 5,\n",
       "   'position': 0,\n",
       "   'start_offset': 0,\n",
       "   'token': 'quick',\n",
       "   'type': '<ALPHANUM>'},\n",
       "  {'end_offset': 11,\n",
       "   'position': 1,\n",
       "   'start_offset': 6,\n",
       "   'token': 'brown',\n",
       "   'type': '<ALPHANUM>'},\n",
       "  {'end_offset': 15,\n",
       "   'position': 2,\n",
       "   'start_offset': 12,\n",
       "   'token': 'fox',\n",
       "   'type': '<ALPHANUM>'}]}"
      ]
     },
     "execution_count": 9,
     "metadata": {},
     "output_type": "execute_result"
    }
   ],
   "source": [
    "es.indices.analyze(index='my_index', analyzer='standard', text='Quick brown fox')"
   ]
  },
  {
   "cell_type": "markdown",
   "metadata": {},
   "source": [
    "Positions can be stored in the inverted index, and position-aware queries like the match_phrase query can use them to match only documents that contain all the words in exactly the order specified, with no words in-between.\n",
    "\n",
    "For a document to be considered a match for the phrase “quick brown fox”, the following must be true:\n",
    "\n",
    "* quick, brown, and fox must all appear in the field.\n",
    "* The position of brown must be 1 greater than the position of quick.\n",
    "* The position of fox must be 2 greater than the position of quick.\n",
    "* If any of these conditions is not met, the document is not considered a match.\n",
    "\n",
    "#### Mixing It Up\n",
    "\n",
    "Requiring exact-phrase matches may be too strict a constraint. Perhaps we do want documents that contain “quick brown fox” to be considered a match for the query “quick fox,” even though the positions aren’t exactly equivalent.\n"
   ]
  },
  {
   "cell_type": "code",
   "execution_count": 10,
   "metadata": {
    "collapsed": false
   },
   "outputs": [
    {
     "data": {
      "text/plain": [
       "<Response: [<Hit(my_index/my_type/1): {'title': 'The quick brown fox'}>, <Hit(my_index/my_type/2): {'title': 'The quick brown fox jumps over the lazy dog'}>, <Hit(my_index/my_type/3): {'title': 'The quick brown fox jumps over the quick dog'}>]>"
      ]
     },
     "execution_count": 10,
     "metadata": {},
     "output_type": "execute_result"
    }
   ],
   "source": [
    "# \"sloppy\"\n",
    "s = Index('my_index', using=es).search()\n",
    "s = s.query(Q('match_phrase', title={\"query\": \"quick  fox\", \"slop\":1}))\n",
    "s.execute()"
   ]
  },
  {
   "cell_type": "markdown",
   "metadata": {},
   "source": [
    "The `slop` parameter tells the `match_phrase` query how far apart terms are allowed to be while still considering the document a match. By how far apart we mean how many times do you need to move a term in order to make the query and document match?\n",
    "\n",
    "We’ll start with a simple example. To make the query quick fox match a document containing `quick brown fox` we need a `slop` of just 1:\n",
    "\n",
    "\n",
    "|         | Pos 1 | Pos 2 | Pos 3 |\n",
    "|---------|-------|-------|-------|\n",
    "| Doc:    | quick | brown | fox   |\n",
    "| Query:  | quick | fox   |       |\n",
    "| Slop 1: | quick | ↳     |fox   |\n",
    "\n",
    "Higher slop can move the words in any direction:\n",
    "\n",
    "|          |   Pos 1 | |Pos 2       | | Pos 3   |\n",
    "|-----------|--------|--|-----------|-|---------|\n",
    "|Doc:       | quick  |  |brown      |  | fox    |\n",
    "|Query:     | fox      | |    quick |  |        |\n",
    "|Slop 1:    | fox/quick  |↵|       |   |      |\n",
    "|Slop 2:    | quick     | ↳ | fox    |      | |\n",
    "|Slop 3:    | quick      |   |       | ↳ |    fox|"
   ]
  },
  {
   "cell_type": "code",
   "execution_count": null,
   "metadata": {
    "collapsed": true
   },
   "outputs": [],
   "source": []
  }
 ],
 "metadata": {
  "kernelspec": {
   "display_name": "Python 3",
   "language": "python",
   "name": "python3"
  },
  "language_info": {
   "codemirror_mode": {
    "name": "ipython",
    "version": 3
   },
   "file_extension": ".py",
   "mimetype": "text/x-python",
   "name": "python",
   "nbconvert_exporter": "python",
   "pygments_lexer": "ipython3",
   "version": "3.5.1"
  }
 },
 "nbformat": 4,
 "nbformat_minor": 0
}
