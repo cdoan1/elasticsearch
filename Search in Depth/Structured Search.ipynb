{
 "cells": [
  {
   "cell_type": "markdown",
   "metadata": {},
   "source": [
    "## Elasticsearch: The Definitive Guide - Python\n",
    "\n",
    "Following the examples in the book, here are Python snippets that achieve the same effect.\n",
    "\n",
    "Documentation for the Python libs:\n",
    "\n",
    "Low-level API:\n",
    "\n",
    "https://elasticsearch-py.readthedocs.io/en/master/index.html\n",
    "\n",
    "Expressive DSL API (more \"Pythonic\")\n",
    "\n",
    "http://elasticsearch-dsl.readthedocs.io/en/latest/index.html\n",
    "\n",
    "Github repo for DSL API:\n",
    "\n",
    "https://github.com/elastic/elasticsearch-dsl-py\n"
   ]
  },
  {
   "cell_type": "code",
   "execution_count": 1,
   "metadata": {
    "collapsed": false
   },
   "outputs": [],
   "source": [
    "import sys, os\n",
    "sys.path.insert(1, os.path.join(sys.path[0], '..'))"
   ]
  },
  {
   "cell_type": "code",
   "execution_count": 2,
   "metadata": {
    "collapsed": false
   },
   "outputs": [
    {
     "name": "stdout",
     "output_type": "stream",
     "text": [
      "14 items created\n"
     ]
    }
   ],
   "source": [
    "import index\n",
    "from elasticsearch import Elasticsearch\n",
    "from elasticsearch_dsl import Search, Q\n",
    "from pprint import pprint\n",
    "\n",
    "es = Elasticsearch(\n",
    "    'localhost',\n",
    "    # sniff before doing anything\n",
    "    sniff_on_start=True,\n",
    "    # refresh nodes after a node fails to respond\n",
    "    sniff_on_connection_fail=True,\n",
    "    # and also every 60 seconds\n",
    "    sniffer_timeout=60\n",
    ")\n",
    "\n",
    "r = index.populate()\n",
    "print('{} items created'.format(len(r['items'])))\n",
    "\n",
    "# Let's repopulate the index as we deleted 'gb' in earlier chapters:\n",
    "# Run the script: populate.ipynb"
   ]
  },
  {
   "cell_type": "markdown",
   "metadata": {
    "collapsed": true
   },
   "source": [
    "### Finding Exact Values\n",
    "\n",
    "These are **non-scoring** queries suitable for extracting exact values like numbers, tags etc."
   ]
  },
  {
   "cell_type": "code",
   "execution_count": 3,
   "metadata": {
    "collapsed": false
   },
   "outputs": [],
   "source": [
    "idx = index.load_sid_examples()"
   ]
  },
  {
   "cell_type": "code",
   "execution_count": 4,
   "metadata": {
    "collapsed": false
   },
   "outputs": [],
   "source": [
    "s = Search(using=es)\n",
    "q = Q('term', price=20)\n",
    "s = s.query(q)\n",
    "response = s.execute()"
   ]
  },
  {
   "cell_type": "code",
   "execution_count": 5,
   "metadata": {
    "collapsed": false
   },
   "outputs": [
    {
     "data": {
      "text/plain": [
       "1.0"
      ]
     },
     "execution_count": 5,
     "metadata": {},
     "output_type": "execute_result"
    }
   ],
   "source": [
    "response[0].meta.score"
   ]
  },
  {
   "cell_type": "code",
   "execution_count": 6,
   "metadata": {
    "collapsed": false
   },
   "outputs": [
    {
     "data": {
      "text/plain": [
       "<Response: []>"
      ]
     },
     "execution_count": 6,
     "metadata": {},
     "output_type": "execute_result"
    }
   ],
   "source": [
    "s = Search(using=es)\n",
    "q = Q('term', productID='XHDK-A-1293-#fJ3')\n",
    "s = s.query(q)\n",
    "s.execute()"
   ]
  },
  {
   "cell_type": "markdown",
   "metadata": {},
   "source": [
    "Hmmm. No results. Let's analyze:"
   ]
  },
  {
   "cell_type": "code",
   "execution_count": 7,
   "metadata": {
    "collapsed": false
   },
   "outputs": [
    {
     "data": {
      "text/plain": [
       "{'tokens': [{'end_offset': 4,\n",
       "   'position': 0,\n",
       "   'start_offset': 0,\n",
       "   'token': 'xhdk',\n",
       "   'type': '<ALPHANUM>'},\n",
       "  {'end_offset': 6,\n",
       "   'position': 1,\n",
       "   'start_offset': 5,\n",
       "   'token': 'a',\n",
       "   'type': '<ALPHANUM>'},\n",
       "  {'end_offset': 11,\n",
       "   'position': 2,\n",
       "   'start_offset': 7,\n",
       "   'token': '1293',\n",
       "   'type': '<NUM>'},\n",
       "  {'end_offset': 16,\n",
       "   'position': 3,\n",
       "   'start_offset': 13,\n",
       "   'token': 'fj3',\n",
       "   'type': '<ALPHANUM>'}]}"
      ]
     },
     "execution_count": 7,
     "metadata": {},
     "output_type": "execute_result"
    }
   ],
   "source": [
    "body = {\n",
    "  \"field\": \"productID\",\n",
    "  \"text\": \"XHDK-A-1293-#fJ3\"\n",
    "}\n",
    "es.indices.analyze(index='my_store', body=body)"
   ]
  },
  {
   "cell_type": "markdown",
   "metadata": {},
   "source": [
    "The value was indexed as separate tokens instead of one. Let's fix this:"
   ]
  },
  {
   "cell_type": "code",
   "execution_count": 8,
   "metadata": {
    "collapsed": false
   },
   "outputs": [],
   "source": [
    "body = {\n",
    "    \"mappings\" : {\n",
    "        \"products\" : {\n",
    "            \"properties\" : {\n",
    "                \"productID\" : {\n",
    "                    \"type\" : \"string\",\n",
    "                    \"index\" : \"not_analyzed\" \n",
    "                }\n",
    "            }\n",
    "        }\n",
    "    }\n",
    "\n",
    "}\n",
    "i = index.load_sid_examples(settings=body)"
   ]
  },
  {
   "cell_type": "code",
   "execution_count": 9,
   "metadata": {
    "collapsed": false
   },
   "outputs": [
    {
     "data": {
      "text/plain": [
       "<Response: [<Hit(my_store/produces/1): {'productID': 'XHDK-A-1293-#fJ3', 'price': 10}>]>"
      ]
     },
     "execution_count": 9,
     "metadata": {},
     "output_type": "execute_result"
    }
   ],
   "source": [
    "s = Search(using=es)\n",
    "q = Q('term', productID='XHDK-A-1293-#fJ3')\n",
    "s = s.query(q)\n",
    "s.execute()"
   ]
  },
  {
   "cell_type": "markdown",
   "metadata": {},
   "source": [
    "The above are simple queries, but what if we want something more complex?\n",
    "We can use Boolean."
   ]
  },
  {
   "cell_type": "code",
   "execution_count": 10,
   "metadata": {
    "collapsed": false
   },
   "outputs": [
    {
     "data": {
      "text/plain": [
       "{'_shards': {'failed': 0, 'successful': 5, 'total': 5},\n",
       " 'hits': {'hits': [{'_id': '2',\n",
       "    '_index': 'my_store',\n",
       "    '_score': 1.0,\n",
       "    '_source': {'price': 20, 'productID': 'KDKE-B-9947-#kL5'},\n",
       "    '_type': 'produces'},\n",
       "   {'_id': '1',\n",
       "    '_index': 'my_store',\n",
       "    '_score': 1.0,\n",
       "    '_source': {'price': 10, 'productID': 'XHDK-A-1293-#fJ3'},\n",
       "    '_type': 'produces'}],\n",
       "  'max_score': 1.0,\n",
       "  'total': 2},\n",
       " 'timed_out': False,\n",
       " 'took': 1}"
      ]
     },
     "execution_count": 10,
     "metadata": {},
     "output_type": "execute_result"
    }
   ],
   "source": [
    "# First - let's go manual with the entire JSON body\n",
    "body = {\n",
    "   \"query\" : {\n",
    "      \"constant_score\" : { \n",
    "         \"filter\" : {\n",
    "            \"bool\" : {\n",
    "              \"should\" : [\n",
    "                 { \"term\" : {\"price\" : 20}}, \n",
    "                 { \"term\" : {\"productID\" : \"XHDK-A-1293-#fJ3\"}} \n",
    "              ],\n",
    "              \"must_not\" : {\n",
    "                 \"term\" : {\"price\" : 30} \n",
    "              }\n",
    "           }\n",
    "         }\n",
    "      }\n",
    "   }\n",
    "}\n",
    "es.search(index='my_store', body=body)"
   ]
  },
  {
   "cell_type": "code",
   "execution_count": 11,
   "metadata": {
    "collapsed": false
   },
   "outputs": [],
   "source": [
    "# Or the more \"Pythonic way\" using the DSL\n",
    "bool_query = Q('bool',\n",
    "               should=[Q('term', price=20), Q('term', productID='XHDK-A-1293-#fJ3')],\n",
    "               must_not=[Q('term', price=30)]\n",
    "               )\n",
    "s = Search(using=es)\n",
    "s = s.query(bool_query)\n",
    "res = s.execute()"
   ]
  },
  {
   "cell_type": "code",
   "execution_count": 12,
   "metadata": {
    "collapsed": false
   },
   "outputs": [
    {
     "name": "stdout",
     "output_type": "stream",
     "text": [
      "1.0\n",
      "0.2876821\n"
     ]
    }
   ],
   "source": [
    "for hit in res:\n",
    "    print(hit.meta.score)"
   ]
  },
  {
   "cell_type": "markdown",
   "metadata": {},
   "source": [
    "Hmmm. These are not constant scores of 1, so our query here is not a filter. It is exercising a boolean query, but still scoring."
   ]
  },
  {
   "cell_type": "code",
   "execution_count": 13,
   "metadata": {
    "collapsed": true
   },
   "outputs": [],
   "source": [
    "# Or the more \"Pythonic way\" using the DSL **AND** a filter\n",
    "bool_filter = Q('bool',\n",
    "               should=[Q('term', price=20), Q('term', productID='XHDK-A-1293-#fJ3')],\n",
    "               must_not=[Q('term', price=30)]\n",
    "               )\n",
    "s = Search(using=es)\n",
    "s = s.filter(bool_filter)\n",
    "res = s.execute()"
   ]
  },
  {
   "cell_type": "code",
   "execution_count": 14,
   "metadata": {
    "collapsed": false
   },
   "outputs": [
    {
     "name": "stdout",
     "output_type": "stream",
     "text": [
      "0.0\n",
      "0.0\n"
     ]
    }
   ],
   "source": [
    "for hit in res:\n",
    "    print(hit.meta.score)"
   ]
  },
  {
   "cell_type": "markdown",
   "metadata": {},
   "source": [
    "So far, so good - we are not scoring. But what if we want a constant score of 1?"
   ]
  },
  {
   "cell_type": "code",
   "execution_count": 15,
   "metadata": {
    "collapsed": true
   },
   "outputs": [],
   "source": [
    "# Or the more \"Pythonic way\" using the DSL **AND** a filter **AND** constant score\n",
    "bool_filter = Q('bool',\n",
    "               should=[Q('term', price=20), Q('term', productID='XHDK-A-1293-#fJ3')],\n",
    "               must_not=[Q('term', price=30)]\n",
    "               )\n",
    "s = Search(using=es)\n",
    "s = s.query('constant_score', filter=bool_filter)\n",
    "res = s.execute()"
   ]
  },
  {
   "cell_type": "code",
   "execution_count": 16,
   "metadata": {
    "collapsed": false
   },
   "outputs": [
    {
     "name": "stdout",
     "output_type": "stream",
     "text": [
      "1.0\n",
      "1.0\n"
     ]
    }
   ],
   "source": [
    "for hit in res:\n",
    "    print(hit.meta.score)"
   ]
  },
  {
   "cell_type": "markdown",
   "metadata": {},
   "source": [
    "#### Nesting Boolean Queries\n",
    "\n",
    "We can go further:"
   ]
  },
  {
   "cell_type": "code",
   "execution_count": 17,
   "metadata": {
    "collapsed": true
   },
   "outputs": [],
   "source": [
    "# Nested boolean\n",
    "inner_bool = Q('bool', \n",
    "               must=[Q('term', price=30), Q('term', productID='JODL-X-1937-#pV7')])\n",
    "outer_bool = Q('bool', \n",
    "               should=[Q('term', productID='KDKE-B-9947-#kL5'), inner_bool])\n",
    "s = Search(using=es)\n",
    "s = s.query('constant_score', filter=bool_filter)\n",
    "res = s.execute()"
   ]
  },
  {
   "cell_type": "code",
   "execution_count": 18,
   "metadata": {
    "collapsed": false
   },
   "outputs": [
    {
     "data": {
      "text/plain": [
       "<Response: [<Hit(my_store/produces/2): {'productID': 'KDKE-B-9947-#kL5', 'price': 20}>, <Hit(my_store/produces/1): {'productID': 'XHDK-A-1293-#fJ3', 'price': 10}>]>"
      ]
     },
     "execution_count": 18,
     "metadata": {},
     "output_type": "execute_result"
    }
   ],
   "source": [
    "res"
   ]
  },
  {
   "cell_type": "markdown",
   "metadata": {},
   "source": [
    "#### Finding Multiple Exact Values\n",
    "\n",
    "This can be done using a **terms** (note the 's') query:"
   ]
  },
  {
   "cell_type": "code",
   "execution_count": 19,
   "metadata": {
    "collapsed": true
   },
   "outputs": [],
   "source": [
    "s = Search(using=es)\n",
    "s = s.query('constant_score', filter=Q('terms', price=[20,30]))\n",
    "res = s.execute()"
   ]
  },
  {
   "cell_type": "code",
   "execution_count": 20,
   "metadata": {
    "collapsed": false
   },
   "outputs": [
    {
     "data": {
      "text/plain": [
       "3"
      ]
     },
     "execution_count": 20,
     "metadata": {},
     "output_type": "execute_result"
    }
   ],
   "source": [
    "res.hits.total"
   ]
  },
  {
   "cell_type": "code",
   "execution_count": 21,
   "metadata": {
    "collapsed": false
   },
   "outputs": [
    {
     "data": {
      "text/plain": [
       "[<Hit(my_store/produces/2): {'productID': 'KDKE-B-9947-#kL5', 'price': 20}>, <Hit(my_store/produces/4): {'productID': 'QQPX-R-3956-#aD8', 'price': 30}>, <Hit(my_store/produces/3): {'productID': 'JODL-X-1937-#pV7', 'price': 30}>]"
      ]
     },
     "execution_count": 21,
     "metadata": {},
     "output_type": "execute_result"
    }
   ],
   "source": [
    "res.hits"
   ]
  },
  {
   "cell_type": "markdown",
   "metadata": {},
   "source": [
    "#### Contain, but Does Not Equal\n",
    "\n",
    "It is important to understand that term and terms are contains operations, not equals. What does that mean?\n",
    "\n",
    "If you have a term query for `{ \"term\" : { \"tags\" : \"search\" } }`, it will match both of the following documents:\n",
    "\n",
    "`\n",
    "{ \"tags\" : [\"search\"] }\n",
    "{ \"tags\" : [\"search\", \"open_source\"] }\n",
    "`\n",
    "\n",
    "When a `term` query is executed for the token search, it goes straight to the corresponding entry in the inverted index and extracts the associated doc IDs. Both document 1 and document 2 contain the token in the inverted index. Therefore, they are both returned as a result.\n",
    "\n",
    "#### Equals Exactly\n",
    "\n",
    "If exact matching is required, then one solution is to index the number of tags:\n",
    "\n",
    "`\n",
    "{ \"tags\" : [\"search\"], \"tag_count\" : 1 }\n",
    "{ \"tags\" : [\"search\", \"open_source\"], \"tag_count\" : 2 }`\n",
    "\n",
    "And then search on both indexed fields:\n",
    "\n",
    "`\n",
    "GET /my_index/my_type/_search\n",
    "{\n",
    "    \"query\": {\n",
    "        \"constant_score\" : {\n",
    "            \"filter\" : {\n",
    "                 \"bool\" : {\n",
    "                    \"must\" : [\n",
    "                        { \"term\" : { \"tags\" : \"search\" } }, \n",
    "                        { \"term\" : { \"tag_count\" : 1 } } \n",
    "                    ]\n",
    "                }\n",
    "            }\n",
    "        }\n",
    "    }\n",
    "}\n",
    "`\n",
    "\n",
    "#### Ranges\n",
    "\n",
    "The range query supports both inclusive and exclusive ranges, through combinations of the following options:\n",
    "\n",
    "* `gt:` > greater than\n",
    "* `lt:` < less than\n",
    "* `gte:` >= greater than or equal to\n",
    "* `lte:` <= less than or equal to"
   ]
  },
  {
   "cell_type": "code",
   "execution_count": 22,
   "metadata": {
    "collapsed": true
   },
   "outputs": [],
   "source": [
    "s = Search(using=es)\n",
    "s = s.query('constant_score', filter=Q('range', price={ \"gte\": 20, \"lt\": 40 }))\n",
    "res = s.execute()"
   ]
  },
  {
   "cell_type": "code",
   "execution_count": 23,
   "metadata": {
    "collapsed": false
   },
   "outputs": [
    {
     "data": {
      "text/plain": [
       "[<Hit(my_store/produces/2): {'productID': 'KDKE-B-9947-#kL5', 'price': 20}>, <Hit(my_store/produces/4): {'productID': 'QQPX-R-3956-#aD8', 'price': 30}>, <Hit(my_store/produces/3): {'productID': 'JODL-X-1937-#pV7', 'price': 30}>]"
      ]
     },
     "execution_count": 23,
     "metadata": {},
     "output_type": "execute_result"
    }
   ],
   "source": [
    "res.hits"
   ]
  },
  {
   "cell_type": "markdown",
   "metadata": {},
   "source": [
    "#### Range on Dates\n",
    "\n",
    "Can also be used on date fields:\n",
    "\n",
    "`\n",
    "\"range\" : {\n",
    "    \"timestamp\" : {\n",
    "        \"gt\" : \"2014-01-01 00:00:00\",\n",
    "        \"lt\" : \"2014-01-07 00:00:00\"\n",
    "    }\n",
    "}`\n",
    "\n",
    "When used on date fields, the `range` query supports `date math` operations. For example, if we want to find all documents that have a timestamp sometime in the last hour:\n",
    "\n",
    "`\n",
    "\"range\" : {\n",
    "    \"timestamp\" : {\n",
    "        \"gt\" : \"now-1h\"\n",
    "    }\n",
    "}`\n",
    "\n",
    "This filter will now constantly find all documents with a timestamp greater than the current time minus 1 hour, making the filter a sliding window across your documents.\n",
    "\n",
    "Date math can also be applied to actual dates, rather than a placeholder like now. Just add a double pipe (||) after the date and follow it with a date math expression:\n",
    "\n",
    "`\"range\" : {\n",
    "    \"timestamp\" : {\n",
    "        \"gt\" : \"2014-01-01 00:00:00\",\n",
    "        \"lt\" : \"2014-01-01 00:00:00||+1M\" \n",
    "    }\n",
    "}`\n",
    "\n",
    "The `\"lt\"` means: Less than January 1, 2014 plus one month.\n",
    "\n",
    "#### Range on Strings\n",
    "\n",
    "The range query can also operate on string fields. String ranges are calculated lexicographically or alphabetically. For example, these values are sorted in lexicographic order:\n",
    "\n",
    "* 5, 50, 6, B, C, a, ab, abb, abc, b\n",
    "\n",
    "NOTE: Terms in the inverted index are sorted in lexicographical order, which is why string ranges use this order.\n",
    "\n",
    "#### Be Careful of Cardinality\n",
    "\n",
    "Numeric and date fields are indexed in such a way that ranges are efficient to calculate. This is not the case for string fields, however. To perform a range on a string field, Elasticsearch is effectively performing a term filter for every term that falls in the range. This is much slower than a date or numeric range.\n",
    "\n",
    "String ranges are fine on a field with low cardinality—a small number of unique terms. But the more unique terms you have, the slower the string range will be.\n",
    "\n",
    "### Dealing with Null Values\n",
    "\n",
    "In the range example above, tags is a multivalue field. A document may have one tag, many tags, or potentially no tags at all. If a field has no values, then it won't be present in the index (for this doc).\n",
    "\n",
    "Ultimately, this means that a null, [] (an empty array), and [null] are all equivalent. They simply don’t exist in the inverted index!\n",
    "\n",
    "Let's expore an example:\n",
    "\n",
    "![screenshot 2017-03-14 11 15 46](https://cloud.githubusercontent.com/assets/28526/23915873/984ba1be-08a7-11e7-950e-22834445f302.png)\n"
   ]
  },
  {
   "cell_type": "code",
   "execution_count": 25,
   "metadata": {
    "collapsed": true
   },
   "outputs": [],
   "source": [
    "# First load the sample data for posts\n",
    "idx = index.load_sid_examples(set=2)"
   ]
  },
  {
   "cell_type": "code",
   "execution_count": 47,
   "metadata": {
    "collapsed": false
   },
   "outputs": [],
   "source": [
    "s = Search(using=es)\n",
    "s = s.query('constant_score', filter=Q('bool',\n",
    "                                must_not=[Q('exists', field='tags')]))\n",
    "res = s.execute()"
   ]
  },
  {
   "cell_type": "code",
   "execution_count": 48,
   "metadata": {
    "collapsed": false
   },
   "outputs": [
    {
     "data": {
      "text/plain": [
       "24"
      ]
     },
     "execution_count": 48,
     "metadata": {},
     "output_type": "execute_result"
    }
   ],
   "source": [
    "res.hits.total"
   ]
  },
  {
   "cell_type": "code",
   "execution_count": 51,
   "metadata": {
    "collapsed": false
   },
   "outputs": [
    {
     "name": "stdout",
     "output_type": "stream",
     "text": [
      "megacorp\n",
      "website\n",
      "my_index\n",
      "5.2.2\n",
      "14\n",
      "5\n",
      "9\n",
      "8\n",
      "10\n",
      "12\n"
     ]
    }
   ],
   "source": [
    "for hit in res:\n",
    "    print(hit.meta.id)"
   ]
  },
  {
   "cell_type": "markdown",
   "metadata": {},
   "source": [
    "#### Missing Query\n",
    "\n",
    "Note: missing query is [deprecated from ES 5.x](https://www.elastic.co/guide/en/elasticsearch/reference/5.2/breaking_50_search_changes.html#_deprecated_queries_removed)\n",
    "\n",
    "missing query has been removed because it can be advantageously replaced by an exists query inside a must_not clause as follows:"
   ]
  },
  {
   "cell_type": "code",
   "execution_count": 64,
   "metadata": {
    "collapsed": false
   },
   "outputs": [],
   "source": [
    "from elasticsearch_dsl import Index\n",
    "s = Index(name='my_index', using=es).search()\n",
    "s = s.query('constant_score', filter=Q('bool',\n",
    "                                       must_not=[Q('exists', field='tags')]))\n",
    "res = s.execute()"
   ]
  },
  {
   "cell_type": "code",
   "execution_count": 66,
   "metadata": {
    "collapsed": false
   },
   "outputs": [
    {
     "name": "stdout",
     "output_type": "stream",
     "text": [
      "<Hit(my_index/posts/4): {'tags': None}>\n",
      "<Hit(my_index/posts/3): {'other_field': 'some data'}>\n"
     ]
    }
   ],
   "source": [
    "for hit in res:\n",
    "    print(hit)"
   ]
  },
  {
   "cell_type": "code",
   "execution_count": null,
   "metadata": {
    "collapsed": true
   },
   "outputs": [],
   "source": []
  }
 ],
 "metadata": {
  "kernelspec": {
   "display_name": "Python 3",
   "language": "python",
   "name": "python3"
  },
  "language_info": {
   "codemirror_mode": {
    "name": "ipython",
    "version": 3
   },
   "file_extension": ".py",
   "mimetype": "text/x-python",
   "name": "python",
   "nbconvert_exporter": "python",
   "pygments_lexer": "ipython3",
   "version": "3.5.1"
  }
 },
 "nbformat": 4,
 "nbformat_minor": 0
}
