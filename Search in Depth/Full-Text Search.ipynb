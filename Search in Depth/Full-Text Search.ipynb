{
 "cells": [
  {
   "cell_type": "markdown",
   "metadata": {},
   "source": [
    "## Elasticsearch: The Definitive Guide - Python\n",
    "\n",
    "Following the examples in the book, here are Python snippets that achieve the same effect.\n",
    "\n",
    "Documentation for the Python libs:\n",
    "\n",
    "Low-level API:\n",
    "\n",
    "https://elasticsearch-py.readthedocs.io/en/master/index.html\n",
    "\n",
    "Expressive DSL API (more \"Pythonic\")\n",
    "\n",
    "http://elasticsearch-dsl.readthedocs.io/en/latest/index.html\n",
    "\n",
    "Github repo for DSL API:\n",
    "\n",
    "https://github.com/elastic/elasticsearch-dsl-py\n"
   ]
  },
  {
   "cell_type": "code",
   "execution_count": 1,
   "metadata": {
    "collapsed": false
   },
   "outputs": [],
   "source": [
    "import sys, os\n",
    "sys.path.insert(1, os.path.join(sys.path[0], '..'))"
   ]
  },
  {
   "cell_type": "code",
   "execution_count": 2,
   "metadata": {
    "collapsed": false
   },
   "outputs": [
    {
     "name": "stdout",
     "output_type": "stream",
     "text": [
      "4 items created\n"
     ]
    }
   ],
   "source": [
    "import index\n",
    "from elasticsearch import Elasticsearch\n",
    "from elasticsearch_dsl import Search, Q, Index\n",
    "from pprint import pprint\n",
    "\n",
    "es = Elasticsearch(\n",
    "    'localhost',\n",
    "    # sniff before doing anything\n",
    "    sniff_on_start=True,\n",
    "    # refresh nodes after a node fails to respond\n",
    "    sniff_on_connection_fail=True,\n",
    "    # and also every 60 seconds\n",
    "    sniffer_timeout=60\n",
    ")\n",
    "\n",
    "r = index.load_sid_examples(settings={ \"settings\": { \"number_of_shards\": 1 }},set=3)\n",
    "print('{} items created'.format(len(r['items'])))\n",
    "\n",
    "# Let's repopulate the index as we deleted 'gb' in earlier chapters:\n",
    "# Run the script: populate.ipynb"
   ]
  },
  {
   "cell_type": "markdown",
   "metadata": {
    "collapsed": true
   },
   "source": [
    "### Full-Text Search\n",
    "\n",
    "The two most important aspects of full-text search are as follows:\n",
    "\n",
    "##### Relevance\n",
    "\n",
    ">The ability to rank results by how relevant they are to the given query, whether relevance is calculated using TF/IDF (see [What Is Relevance?](https://www.elastic.co/guide/en/elasticsearch/guide/master/relevance-intro.html), proximity to a geolocation, fuzzy similarity, or some other algorithm.\n",
    "\n",
    "##### Analysis\n",
    "\n",
    ">The process of converting a block of text into distinct, normalized tokens (see [Analysis and Analyzers](https://www.elastic.co/guide/en/elasticsearch/guide/master/analysis-intro.html) in order to (a) create an inverted index and (b) query the inverted index.\n",
    "\n",
    "#### Term-Based Versus Full-Text\n",
    "\n",
    "Two types of text query:\n",
    "\n",
    "##### Term-based\n",
    "\n",
    "Queries like the term or fuzzy queries are low-level queries that have no analysis phase. They operate on a single term. A term query for the term Foo looks for that exact term in the inverted index and calculates the TF/IDF relevance _score for each document that contains the term.\n",
    "\n",
    "##### Full-text queries\n",
    "\n",
    "Queries like the match or query_string queries are high-level queries that understand the mapping of a field:\n",
    "\n",
    "* If you use them to query a date or integer field, they will treat the query string as a date or integer, respectively.\n",
    "\n",
    "* If you query an exact value (not_analyzed) string field, they will treat the whole query string as a single term.\n",
    "\n",
    "* But if you query a full-text (analyzed) field, they will first pass the query string through the appropriate analyzer to produce the list of terms to be queried.\n",
    "\n",
    "Once the query has assembled a list of terms, it executes the appropriate low-level query for each of these terms, and then combines their results to produce the final relevance score for each document.\n",
    "\n",
    "#### The match Query\n",
    "\n",
    "The *go-to* query."
   ]
  },
  {
   "cell_type": "code",
   "execution_count": 3,
   "metadata": {
    "collapsed": true
   },
   "outputs": [],
   "source": [
    "s = Index('my_index', using=es).search()\n",
    "s = s.query('match', title='QUICK!')\n",
    "res = s.execute()"
   ]
  },
  {
   "cell_type": "code",
   "execution_count": 4,
   "metadata": {
    "collapsed": false
   },
   "outputs": [
    {
     "name": "stdout",
     "output_type": "stream",
     "text": [
      "1 The quick brown fox  - Score: 0.42327404\n",
      "3 The quick brown fox jumps over the quick dog  - Score: 0.42211798\n",
      "2 The quick brown fox jumps over the lazy dog  - Score: 0.2887157\n"
     ]
    }
   ],
   "source": [
    "for hit in res:\n",
    "    print(hit.meta.id, hit.title, ' - Score:', hit.meta.score)"
   ]
  },
  {
   "cell_type": "markdown",
   "metadata": {},
   "source": [
    "Document 1 is most relevant because its title field is short, which means that quick represents a large portion of its content.\n",
    "\n",
    "\n",
    "Document 3 is more relevant than document 2 because quick appears twice.\n",
    "\n",
    "#### Multiword Queries\n",
    "\n",
    "Obviously, we can search on more than one word at a time:\n"
   ]
  },
  {
   "cell_type": "code",
   "execution_count": 5,
   "metadata": {
    "collapsed": false
   },
   "outputs": [
    {
     "name": "stdout",
     "output_type": "stream",
     "text": [
      "4 Brown fox brown dog  - Score: 0.58571666\n",
      "2 The quick brown fox jumps over the lazy dog  - Score: 0.37400126\n",
      "3 The quick brown fox jumps over the quick dog  - Score: 0.37400126\n",
      "1 The quick brown fox  - Score: 0.12503365\n"
     ]
    }
   ],
   "source": [
    "s = Index('my_index', using=es).search()\n",
    "s = s.query('match', title='BROWN DOG!')\n",
    "res = s.execute()\n",
    "for hit in res:\n",
    "    print(hit.meta.id, hit.title, ' - Score:', hit.meta.score)"
   ]
  },
  {
   "cell_type": "markdown",
   "metadata": {},
   "source": [
    "Document 4 is the most relevant because it contains \"brown\" twice and \"dog\" once.\n",
    "\n",
    "Documents 2 and 3 both contain brown and dog once each, and the title field is the same length in both docs, so they have the same score.\n",
    "\n",
    "Document 1 matches even though it contains only brown, not dog.\n",
    "\n",
    "Internally, this is a boolean query (more later). The important thing is: **any** document whose title field **contains at least one of the specified terms** will match the query. The more terms that match, the more relevant the document.\n",
    "\n",
    "#### Improving Precision\n",
    "\n",
    "Do we really want *ALL* the docs that contain brown and/or dog?"
   ]
  },
  {
   "cell_type": "code",
   "execution_count": 6,
   "metadata": {
    "collapsed": false
   },
   "outputs": [
    {
     "name": "stdout",
     "output_type": "stream",
     "text": [
      "4 Brown fox brown dog  - Score: 0.58571666\n",
      "2 The quick brown fox jumps over the lazy dog  - Score: 0.37400126\n",
      "3 The quick brown fox jumps over the quick dog  - Score: 0.37400126\n"
     ]
    }
   ],
   "source": [
    "q = Q('match', title={      \n",
    "                \"query\":    \"BROWN DOG!\",\n",
    "                \"operator\": \"and\"\n",
    "            })\n",
    "s = Index('my_index', using=es).search()\n",
    "s = s.query(q)\n",
    "res = s.execute()\n",
    "for hit in res:\n",
    "    print(hit.meta.id, hit.title, ' - Score:', hit.meta.score)"
   ]
  },
  {
   "cell_type": "markdown",
   "metadata": {},
   "source": [
    "#### Controlling Precision\n",
    "\n",
    "The `match` query supports the `minimum_should_match` parameter, which allows you to specify the number of terms that must match for a document to be considered relevant. While you can specify an absolute number of terms, it usually makes sense to specify a percentage instead, as you have no control over the number of words the user may enter:"
   ]
  },
  {
   "cell_type": "code",
   "execution_count": 7,
   "metadata": {
    "collapsed": false
   },
   "outputs": [
    {
     "name": "stdout",
     "output_type": "stream",
     "text": [
      "4 Brown fox brown dog  - Score: 0.58571666\n",
      "2 The quick brown fox jumps over the lazy dog  - Score: 0.37400126\n",
      "3 The quick brown fox jumps over the quick dog  - Score: 0.37400126\n",
      "1 The quick brown fox  - Score: 0.12503365\n"
     ]
    }
   ],
   "source": [
    "q = Q('match', title={      \n",
    "                \"query\":    \"BROWN DOG!\",\n",
    "                \"minimum_should_match\": \"75%\"\n",
    "            })\n",
    "s = Index('my_index', using=es).search()\n",
    "s = s.query(q)\n",
    "res = s.execute()\n",
    "for hit in res:\n",
    "    print(hit.meta.id, hit.title, ' - Score:', hit.meta.score)"
   ]
  },
  {
   "cell_type": "markdown",
   "metadata": {},
   "source": [
    "The minimum_should_match parameter is flexible. See [full documentation](https://www.elastic.co/guide/en/elasticsearch/reference/master/query-dsl-minimum-should-match.html#query-dsl-minimum-should-match)\n",
    "\n",
    "#### Combining Queries\n",
    "\n",
    "We already looked at bool filter to combine multiple filter clauses with `and`, `or`, and `not` logic. In query land, the bool query does a similar job but with one important difference.\n",
    "\n",
    "Filters make a binary decision: should this document be included in the results list or not? Queries decide not only whether to include a document, but also **how relevant that document is.**"
   ]
  },
  {
   "cell_type": "code",
   "execution_count": 8,
   "metadata": {
    "collapsed": false
   },
   "outputs": [
    {
     "name": "stdout",
     "output_type": "stream",
     "text": [
      "3 The quick brown fox jumps over the quick dog  - Score: 0.7961192\n",
      "1 The quick brown fox  - Score: 0.54830766\n"
     ]
    }
   ],
   "source": [
    "s = Index('my_index', using=es).search()\n",
    "q = Q('bool',\n",
    "     must = [Q('match', title=\"quick\")],\n",
    "     must_not = [Q('match', title=\"lazy\")],\n",
    "     should = [Q('match', title=\"brown\"), Q('match', title=\"dog\")])\n",
    "s = s.query(q)\n",
    "res = s.execute()\n",
    "for hit in res:\n",
    "    print(hit.meta.id, hit.title, ' - Score:', hit.meta.score)"
   ]
  },
  {
   "cell_type": "markdown",
   "metadata": {},
   "source": [
    "Document 3 scores higher because it contains both brown and dog.\n",
    "\n",
    "#### Score Calculation\n",
    "\n",
    "The `bool` query calculates the relevance `_score` for each document by adding together the `_score` from all of the matching `must` and `should` clauses, and then dividing by the total number of must and should clauses.\n",
    "\n",
    "The `must_not` clauses do not affect the score; their only purpose is to exclude documents that might otherwise have been included.\n",
    "\n",
    "#### Controlling Precision\n",
    "\n",
    "All the `must` clauses must match, and all the `must_not` clauses must not match, but how many should clauses should match? By default, none of the `should` clauses are required to match, with one exception: if there are no `must` clauses, then at least one `should` clause must match.\n",
    "\n",
    "Just as we can control the precision of the match query, we can control how many `should` clauses need to match by using the `minimum_should_match` parameter, either as an absolute number or as a percentage:"
   ]
  },
  {
   "cell_type": "code",
   "execution_count": 9,
   "metadata": {
    "collapsed": false
   },
   "outputs": [
    {
     "name": "stdout",
     "output_type": "stream",
     "text": [
      "4 Brown fox brown dog  - Score: 0.71075034\n",
      "2 The quick brown fox jumps over the lazy dog  - Score: 0.45928687\n",
      "3 The quick brown fox jumps over the quick dog  - Score: 0.45928687\n",
      "1 The quick brown fox  - Score: 0.2500673\n"
     ]
    }
   ],
   "source": [
    "s = Index('my_index', using=es).search()\n",
    "q = Q('bool',\n",
    "     should = [Q('match', title=\"brown\"), \n",
    "               Q('match', title=\"fox\"),\n",
    "               Q('match', title=\"dog\")],\n",
    "     minimum_should_match=2)\n",
    "s = s.query(q)\n",
    "res = s.execute()\n",
    "for hit in res:\n",
    "    print(hit.meta.id, hit.title, ' - Score:', hit.meta.score)"
   ]
  },
  {
   "cell_type": "markdown",
   "metadata": {},
   "source": [
    "This means return docs in which a minimum of 2 of the search terms should match (i.e. all of them in this case). \n",
    "\n",
    "The results would include only documents whose title field contains \"brown\" AND \"fox\", \"brown\" AND \"dog\", or \"fox\" AND \"dog\". If a document contains all three, it would be considered more relevant than those that contain just two of the three.\n",
    "\n",
    "\n",
    "We could put this as a %:"
   ]
  },
  {
   "cell_type": "code",
   "execution_count": 10,
   "metadata": {
    "collapsed": false
   },
   "outputs": [
    {
     "name": "stdout",
     "output_type": "stream",
     "text": [
      "4 Brown fox brown dog  - Score: 0.71075034\n",
      "2 The quick brown fox jumps over the lazy dog  - Score: 0.45928687\n",
      "3 The quick brown fox jumps over the quick dog  - Score: 0.45928687\n",
      "1 The quick brown fox  - Score: 0.2500673\n"
     ]
    }
   ],
   "source": [
    "s = Index('my_index', using=es).search()\n",
    "q = Q('bool',\n",
    "     should = [Q('match', title=\"brown\"), \n",
    "               Q('match', title=\"fox\"),\n",
    "               Q('match', title=\"dog\")],\n",
    "     minimum_should_match='50%')\n",
    "s = s.query(q)\n",
    "res = s.execute()\n",
    "for hit in res:\n",
    "    print(hit.meta.id, hit.title, ' - Score:', hit.meta.score)"
   ]
  },
  {
   "cell_type": "markdown",
   "metadata": {},
   "source": [
    "#### How match Uses bool\n",
    "\n",
    "There two queries are equivalent:\n",
    "\n"
   ]
  },
  {
   "cell_type": "code",
   "execution_count": 11,
   "metadata": {
    "collapsed": false
   },
   "outputs": [
    {
     "name": "stdout",
     "output_type": "stream",
     "text": [
      "4 Brown fox brown dog  - Score: 0.2874763\n",
      "1 The quick brown fox  - Score: 0.2500673\n",
      "2 The quick brown fox jumps over the lazy dog  - Score: 0.17057118\n",
      "3 The quick brown fox jumps over the quick dog  - Score: 0.17057118\n"
     ]
    }
   ],
   "source": [
    "s = Index('my_index', using=es).search()\n",
    "q = Q('bool',\n",
    "     should = [Q('term', title=\"brown\"), \n",
    "               Q('term', title=\"fox\")],)\n",
    "s = s.query(q)\n",
    "search_bool = s.execute()\n",
    "for hit in search_bool:\n",
    "    print(hit.meta.id, hit.title, ' - Score:', hit.meta.score)"
   ]
  },
  {
   "cell_type": "code",
   "execution_count": 12,
   "metadata": {
    "collapsed": false
   },
   "outputs": [
    {
     "name": "stdout",
     "output_type": "stream",
     "text": [
      "4 Brown fox brown dog  - Score: 0.2874763\n",
      "1 The quick brown fox  - Score: 0.2500673\n",
      "2 The quick brown fox jumps over the lazy dog  - Score: 0.17057118\n",
      "3 The quick brown fox jumps over the quick dog  - Score: 0.17057118\n"
     ]
    }
   ],
   "source": [
    "s = Index('my_index', using=es).search()\n",
    "q = Q('match', title=\"brown fox\")\n",
    "s = s.query(q)\n",
    "search_match = s.execute()\n",
    "for hit in search_match:\n",
    "    print(hit.meta.id, hit.title, ' - Score:', hit.meta.score)"
   ]
  },
  {
   "cell_type": "code",
   "execution_count": 13,
   "metadata": {
    "collapsed": false
   },
   "outputs": [
    {
     "data": {
      "text/plain": [
       "[<Hit(my_index/my_type/4): {'title': 'Brown fox brown dog'}>, <Hit(my_index/my_type/1): {'title': 'The quick brown fox'}>, <Hit(my_index/my_type/2): {'title': 'The quick brown fox jumps over the lazy dog'}>, <Hit(my_index/my_type/3): {'title': 'The quick brown fox jumps over the quick dog'}>]"
      ]
     },
     "execution_count": 13,
     "metadata": {},
     "output_type": "execute_result"
    }
   ],
   "source": [
    "search_match.hits"
   ]
  },
  {
   "cell_type": "code",
   "execution_count": 14,
   "metadata": {
    "collapsed": false
   },
   "outputs": [
    {
     "data": {
      "text/plain": [
       "<Response: [<Hit(my_index/my_type/4): {'title': 'Brown fox brown dog'}>, <Hit(my_index/my_type/1): {'title': 'The quick brown fox'}>, <Hit(my_index/my_type/2): {'title': 'The quick brown fox jumps over the lazy dog'}>, <Hit(my_index/my_type/3): {'title': 'The quick brown fox jumps over the quick dog'}>]>"
      ]
     },
     "execution_count": 14,
     "metadata": {},
     "output_type": "execute_result"
    }
   ],
   "source": [
    "search_bool"
   ]
  },
  {
   "cell_type": "markdown",
   "metadata": {},
   "source": [
    "These searches are also equivalent:"
   ]
  },
  {
   "cell_type": "code",
   "execution_count": 15,
   "metadata": {
    "collapsed": false
   },
   "outputs": [
    {
     "name": "stdout",
     "output_type": "stream",
     "text": [
      "4 Brown fox brown dog  - Score: 0.58571666\n",
      "2 The quick brown fox jumps over the lazy dog  - Score: 0.37400126\n",
      "3 The quick brown fox jumps over the quick dog  - Score: 0.37400126\n"
     ]
    }
   ],
   "source": [
    "# this time with **must**\n",
    "s = Index('my_index', using=es).search()\n",
    "q = Q('bool',\n",
    "     must = [Q('term', title=\"brown\"), \n",
    "               Q('term', title=\"dog\")],)\n",
    "s = s.query(q)\n",
    "search_bool = s.execute()\n",
    "for hit in search_bool:\n",
    "    print(hit.meta.id, hit.title, ' - Score:', hit.meta.score)"
   ]
  },
  {
   "cell_type": "code",
   "execution_count": 16,
   "metadata": {
    "collapsed": false
   },
   "outputs": [
    {
     "name": "stdout",
     "output_type": "stream",
     "text": [
      "4 Brown fox brown dog  - Score: 0.58571666\n",
      "2 The quick brown fox jumps over the lazy dog  - Score: 0.37400126\n",
      "3 The quick brown fox jumps over the quick dog  - Score: 0.37400126\n"
     ]
    }
   ],
   "source": [
    "# this time with **operator and**\n",
    "s = Index('my_index', using=es).search()\n",
    "q = Q('match', title={\"query\": \"brown dog\", \"operator\": \"and\"})\n",
    "s = s.query(q)\n",
    "search_match = s.execute()\n",
    "for hit in search_match:\n",
    "    print(hit.meta.id, hit.title, ' - Score:', hit.meta.score)"
   ]
  },
  {
   "cell_type": "markdown",
   "metadata": {},
   "source": [
    "Same if we pass the `minimum_should_match` parameter"
   ]
  },
  {
   "cell_type": "code",
   "execution_count": 17,
   "metadata": {
    "collapsed": false
   },
   "outputs": [
    {
     "name": "stdout",
     "output_type": "stream",
     "text": [
      "1 The quick brown fox  - Score: 0.67334133\n",
      "3 The quick brown fox jumps over the quick dog  - Score: 0.59268916\n",
      "2 The quick brown fox jumps over the lazy dog  - Score: 0.45928687\n",
      "4 Brown fox brown dog  - Score: 0.2874763\n"
     ]
    }
   ],
   "source": [
    "# this time with **minimum_should_match**\n",
    "s = Index('my_index', using=es).search()\n",
    "q = Q('bool',\n",
    "     should = [Q('term', title=\"brown\"), \n",
    "               Q('term', title=\"fox\"),\n",
    "               Q('term', title=\"quick\")],\n",
    "             minimum_should_match=2)\n",
    "s = s.query(q)\n",
    "search_bool = s.execute()\n",
    "for hit in search_bool:\n",
    "    print(hit.meta.id, hit.title, ' - Score:', hit.meta.score)"
   ]
  },
  {
   "cell_type": "code",
   "execution_count": 18,
   "metadata": {
    "collapsed": false
   },
   "outputs": [
    {
     "name": "stdout",
     "output_type": "stream",
     "text": [
      "1 The quick brown fox  - Score: 0.67334133\n",
      "3 The quick brown fox jumps over the quick dog  - Score: 0.59268916\n",
      "2 The quick brown fox jumps over the lazy dog  - Score: 0.45928687\n",
      "4 Brown fox brown dog  - Score: 0.2874763\n"
     ]
    }
   ],
   "source": [
    "# this time with **operator and**\n",
    "s = Index('my_index', using=es).search()\n",
    "q = Q('match', title={\"query\": \"brown fox quick\",\n",
    "                      \"minimum_should_match\": \"75%\"})\n",
    "s = s.query(q)\n",
    "search_match = s.execute()\n",
    "for hit in search_match:\n",
    "    print(hit.meta.id, hit.title, ' - Score:', hit.meta.score)"
   ]
  },
  {
   "cell_type": "markdown",
   "metadata": {},
   "source": [
    "Because there are only three clauses, the `minimum_should_match` value of 75% in the match query is rounded down to 2. At least two out of the three should clauses must match.\n",
    "\n",
    "We would normally write these types of queries by using the `match` query, but understanding how the match query works internally lets you take control when needed.\n",
    "\n",
    "#### Boosting Query Clauses\n",
    "\n",
    "Imagine that we want to search for documents about \"full-text search,\" but we want to give more _weight_ to documents that also mention \"Elasticsearch\" or \"Lucene.\" By _more weight_, we mean that documents mentioning \"Elasticsearch\" or \"Lucene\" will receive a higher relevance _score than those that don’t, which means that they will appear higher in the list of results.\n",
    "\n",
    "A simple bool query allows us to write this fairly complex logic as follows:\n",
    "\n",
    "**NOTE**: I will use the fox examples here to exercise the existing index, and build up the query bit by bit to show the influence of the boost on the results."
   ]
  },
  {
   "cell_type": "code",
   "execution_count": 21,
   "metadata": {
    "collapsed": false
   },
   "outputs": [
    {
     "data": {
      "text/plain": [
       "{'_id': '6',\n",
       " '_index': 'my_index',\n",
       " '_shards': {'failed': 0, 'successful': 1, 'total': 2},\n",
       " '_type': 'my_type',\n",
       " '_version': 1,\n",
       " 'created': True,\n",
       " 'result': 'created'}"
      ]
     },
     "execution_count": 21,
     "metadata": {},
     "output_type": "execute_result"
    }
   ],
   "source": [
    "r = index.load_sid_examples(settings={ \"settings\": { \"number_of_shards\": 1 }},set=3)\n",
    "# Add another doc first\n",
    "body = { \"title\": \"The slow dog tried to chase the goat\" }\n",
    "es.create(index='my_index', doc_type='my_type', body=body, id=5)\n",
    "# Add another doc first\n",
    "body = { \"title\": \"The goat liked the fox and the dog\" }\n",
    "es.create(index='my_index', doc_type='my_type', body=body, id=6)"
   ]
  },
  {
   "cell_type": "code",
   "execution_count": 22,
   "metadata": {
    "collapsed": false
   },
   "outputs": [
    {
     "name": "stdout",
     "output_type": "stream",
     "text": [
      "4 Brown fox brown dog  - Score: 0.29243276\n",
      "2 The quick brown fox jumps over the lazy dog  - Score: 0.20276785\n",
      "3 The quick brown fox jumps over the quick dog  - Score: 0.20276785\n",
      "5 The slow dog tried to chase the goat  - Score: 0.20276785\n",
      "6 The goat liked the fox and the dog  - Score: 0.20276785\n"
     ]
    }
   ],
   "source": [
    "# just search for dog first\n",
    "s = Index('my_index', using=es).search()\n",
    "q = Q('bool',\n",
    "     must = [Q('match', title=\"dog\")])\n",
    "s = s.query(q)\n",
    "search_bool = s.execute()\n",
    "for hit in search_bool:\n",
    "    print(hit.meta.id, hit.title, ' - Score:', hit.meta.score)"
   ]
  },
  {
   "cell_type": "code",
   "execution_count": 25,
   "metadata": {
    "collapsed": false
   },
   "outputs": [
    {
     "name": "stdout",
     "output_type": "stream",
     "text": [
      "2 The quick brown fox jumps over the lazy dog  - Score: 1.0684667\n",
      "3 The quick brown fox jumps over the quick dog  - Score: 1.0684667\n",
      "5 The slow dog tried to chase the goat  - Score: 1.0684667\n",
      "6 The goat liked the fox and the dog  - Score: 1.0684667\n",
      "4 Brown fox brown dog  - Score: 0.29243276\n"
     ]
    }
   ],
   "source": [
    "# Now add in jumps and goat\n",
    "s = Index('my_index', using=es).search()\n",
    "q = Q('bool',\n",
    "     must = [Q('match', title=\"dog\")],\n",
    "     should = [Q('match', title=\"jumps\"),Q('match', title=\"goat\")])\n",
    "s = s.query(q)\n",
    "search_bool = s.execute()\n",
    "for hit in search_bool:\n",
    "    print(hit.meta.id, hit.title, ' - Score:', hit.meta.score)"
   ]
  },
  {
   "cell_type": "code",
   "execution_count": 26,
   "metadata": {
    "collapsed": false
   },
   "outputs": [
    {
     "name": "stdout",
     "output_type": "stream",
     "text": [
      "5 The slow dog tried to chase the goat  - Score: 2.7998643\n",
      "6 The goat liked the fox and the dog  - Score: 2.7998643\n",
      "2 The quick brown fox jumps over the lazy dog  - Score: 1.9341656\n",
      "3 The quick brown fox jumps over the quick dog  - Score: 1.9341656\n",
      "4 Brown fox brown dog  - Score: 0.29243276\n"
     ]
    }
   ],
   "source": [
    "# Now boost goat over jumps\n",
    "s = Index('my_index', using=es).search()\n",
    "q = Q('bool',\n",
    "     must = [Q('match', title=\"dog\")],\n",
    "     should = [Q('match', title={'query' : 'jumps', 'boost': 2}),\n",
    "               Q('match', title={'query' : 'goat', 'boost': 3})])\n",
    "s = s.query(q)\n",
    "search_bool = s.execute()\n",
    "for hit in search_bool:\n",
    "    print(hit.meta.id, hit.title, ' - Score:', hit.meta.score)"
   ]
  },
  {
   "cell_type": "markdown",
   "metadata": {},
   "source": [
    "#### Controlling Analysis\n",
    "\n",
    "Queries can find only terms that actually exist in the inverted index, so it is important to ensure that the same analysis process is applied both to the document at index time, and to the query string at search time so that the terms in the query match the terms in the inverted index.\n",
    "\n",
    "Although we say document, analyzers are determined per field. Each field can have a different analyzer, either by configuring a specific analyzer for that field or by falling back on the type, index, or node defaults. At index time, a field’s value is analyzed by using the configured or default analyzer for that field."
   ]
  },
  {
   "cell_type": "code",
   "execution_count": 39,
   "metadata": {
    "collapsed": false
   },
   "outputs": [
    {
     "data": {
      "text/plain": [
       "{'acknowledged': True}"
      ]
     },
     "execution_count": 39,
     "metadata": {},
     "output_type": "execute_result"
    }
   ],
   "source": [
    "mapping = {\n",
    "    \"my_type\": {\n",
    "        \"properties\": {\n",
    "            \"english_title\": {\n",
    "                \"type\":     \"text\",\n",
    "                \"analyzer\": \"english\"\n",
    "            }\n",
    "        }\n",
    "    }\n",
    "}\n",
    "es.indices.put_mapping(index='my_index', doc_type='my_type', body=mapping)"
   ]
  },
  {
   "cell_type": "markdown",
   "metadata": {},
   "source": [
    "We applied the mapping, but this won't be applied to the already indexed docs. We can reindex or just re-create the index altogether. Meanwhile, we can analyze the fields by validating a query."
   ]
  },
  {
   "cell_type": "code",
   "execution_count": 59,
   "metadata": {
    "collapsed": false
   },
   "outputs": [
    {
     "data": {
      "text/plain": [
       "{'_shards': {'failed': 0, 'successful': 1, 'total': 1},\n",
       " 'explanations': [{'explanation': 'title:foxes english_title:fox',\n",
       "   'index': 'my_index',\n",
       "   'valid': True}],\n",
       " 'valid': True}"
      ]
     },
     "execution_count": 59,
     "metadata": {},
     "output_type": "execute_result"
    }
   ],
   "source": [
    "#english (language)\n",
    "i = Index('my_index', using=es)\n",
    "q = Q('bool',\n",
    "     should = [Q('match', title='Foxes'),\n",
    "               Q('match', english_title='Foxes')])\n",
    "es.indices.validate_query(index='my_index', body={ \"query\" :q.to_dict() }, explain=1)"
   ]
  },
  {
   "cell_type": "code",
   "execution_count": null,
   "metadata": {
    "collapsed": true
   },
   "outputs": [],
   "source": []
  }
 ],
 "metadata": {
  "kernelspec": {
   "display_name": "Python 3",
   "language": "python",
   "name": "python3"
  },
  "language_info": {
   "codemirror_mode": {
    "name": "ipython",
    "version": 3
   },
   "file_extension": ".py",
   "mimetype": "text/x-python",
   "name": "python",
   "nbconvert_exporter": "python",
   "pygments_lexer": "ipython3",
   "version": "3.5.1"
  }
 },
 "nbformat": 4,
 "nbformat_minor": 0
}
