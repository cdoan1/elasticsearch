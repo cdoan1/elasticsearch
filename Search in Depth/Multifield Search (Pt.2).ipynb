{
 "cells": [
  {
   "cell_type": "markdown",
   "metadata": {},
   "source": [
    "## Elasticsearch: The Definitive Guide - Python\n",
    "\n",
    "Following the examples in the book, here are Python snippets that achieve the same effect.\n",
    "\n",
    "Documentation for the Python libs:\n",
    "\n",
    "Low-level API:\n",
    "\n",
    "https://elasticsearch-py.readthedocs.io/en/master/index.html\n",
    "\n",
    "Expressive DSL API (more \"Pythonic\")\n",
    "\n",
    "http://elasticsearch-dsl.readthedocs.io/en/latest/index.html\n",
    "\n",
    "Github repo for DSL API:\n",
    "\n",
    "https://github.com/elastic/elasticsearch-dsl-py\n"
   ]
  },
  {
   "cell_type": "code",
   "execution_count": 3,
   "metadata": {
    "collapsed": false
   },
   "outputs": [],
   "source": [
    "import sys, os\n",
    "sys.path.insert(1, os.path.join(sys.path[0], '..'))"
   ]
  },
  {
   "cell_type": "code",
   "execution_count": 4,
   "metadata": {
    "collapsed": false
   },
   "outputs": [
    {
     "name": "stdout",
     "output_type": "stream",
     "text": [
      "4 items created\n"
     ]
    }
   ],
   "source": [
    "import index\n",
    "from elasticsearch import Elasticsearch\n",
    "from elasticsearch_dsl import Search, Q, Index\n",
    "from pprint import pprint\n",
    "\n",
    "es = Elasticsearch(\n",
    "    'localhost',\n",
    "    # sniff before doing anything\n",
    "    sniff_on_start=True,\n",
    "    # refresh nodes after a node fails to respond\n",
    "    sniff_on_connection_fail=True,\n",
    "    # and also every 60 seconds\n",
    "    sniffer_timeout=60\n",
    ")\n",
    "\n",
    "r = index.load_sid_examples(settings={ \"settings\": { \"number_of_shards\": 1 }},set=3)\n",
    "print('{} items created'.format(len(r['items'])))\n",
    "\n",
    "# Let's repopulate the index as we deleted 'gb' in earlier chapters:\n",
    "# Run the script: populate.ipynb"
   ]
  },
  {
   "cell_type": "markdown",
   "metadata": {
    "collapsed": true
   },
   "source": [
    "### Multifield Search\n",
    "\n",
    "#### Cross-fields Entity Search\n",
    "\n",
    "Data often spread across many fields:\n",
    "\n",
    "`\n",
    "{\n",
    "    \"street\":   \"5 Poland Street\",\n",
    "    \"city\":     \"London\",\n",
    "    \"country\":  \"United Kingdom\",\n",
    "    \"postcode\": \"W1V 3DG\"\n",
    "}\n",
    "`\n",
    "\n",
    "Here we are not concerned with multiple-query strings. Here we want to look at a _single_ query string like \"Poland Street W1V.\" As parts of this string appear in different fields in the doc, using `dis_max / best_fields` will not work as they attempt to find the _single_ best-matching field.\n",
    "\n",
    "#### A Naive Approach\n",
    "\n",
    "We could try this:\n",
    "`\n",
    "{\n",
    "  \"query\": {\n",
    "    \"bool\": {\n",
    "      \"should\": [\n",
    "        { \"match\": { \"street\":    \"Poland Street W1V\" }},\n",
    "        { \"match\": { \"city\":      \"Poland Street W1V\" }},\n",
    "        { \"match\": { \"country\":   \"Poland Street W1V\" }},\n",
    "        { \"match\": { \"postcode\":  \"Poland Street W1V\" }}\n",
    "      ]\n",
    "    }\n",
    "  }\n",
    "}\n",
    "`\n",
    "\n",
    "Which is better issued as this:\n",
    "`\n",
    "{\n",
    "  \"query\": {\n",
    "    \"multi_match\": {\n",
    "      \"query\":       \"Poland Street W1V\",\n",
    "      \"type\":        \"most_fields\",\n",
    "      \"fields\":      [ \"street\", \"city\", \"country\", \"postcode\" ]\n",
    "    }\n",
    "  }\n",
    "}\n",
    "`\n",
    "\n",
    "However:\n",
    "\n",
    "The most_fields approach to entity search has some problems that are not immediately obvious:\n",
    "\n",
    "* It is designed to find the most fields matching **any words**, rather than to find the most matching words across **all fields.**\n",
    "* It can’t use the `operator` or `minimum_should_match` parameters to reduce the long tail of less-relevant results.\n",
    "* Term frequencies are different in each field and could interfere with each other to produce badly ordered results.\n",
    "\n",
    "#### Field-Centric Queries\n",
    "\n",
    "All three of the above problems come from `most_fields` being field-centric rather than term-centric - it looks for the most matching fields, not terms! (Ditto `best_fields`).\n",
    "\n",
    "Let's look at why these problems exist:\n",
    "\n",
    "##### Problem 1 - Matching the same word in multiple fields\n"
   ]
  },
  {
   "cell_type": "code",
   "execution_count": 24,
   "metadata": {
    "collapsed": false
   },
   "outputs": [
    {
     "data": {
      "text/plain": [
       "'(city:poland city:street city:w1v) (country:poland country:street country:w1v) (postcode:poland postcode:street postcode:w1v) (street:poland street:street street:w1v)'"
      ]
     },
     "execution_count": 24,
     "metadata": {},
     "output_type": "execute_result"
    }
   ],
   "source": [
    "# Let's confirm how the most_fields query works by validating the query\n",
    "body= {\n",
    "  \"query\": {\n",
    "    \"multi_match\": {\n",
    "      \"query\":   \"Poland Street W1V\",\n",
    "      \"type\":    \"most_fields\",\n",
    "      \"fields\":  [ \"street\", \"city\", \"country\", \"postcode\" ]\n",
    "    }\n",
    "  }\n",
    "}\n",
    "es.indices.validate_query(index='my_index', body=body, explain=1)\\\n",
    "    ['explanations'][0]['explanation']"
   ]
  },
  {
   "cell_type": "markdown",
   "metadata": {},
   "source": [
    "You can see that a document matching just the word poland in two fields could score higher than a document matching poland and street in one field.\n",
    "\n",
    "NOTE: The validated explanation shows the query as a [query string](https://www.elastic.co/guide/en/elasticsearch/reference/current/query-dsl-query-string-query.html)\n",
    "\n",
    "##### Problem 2 - Trimming the long tail\n",
    "\n",
    "Perhaps we could try this:\n"
   ]
  },
  {
   "cell_type": "code",
   "execution_count": 25,
   "metadata": {
    "collapsed": false
   },
   "outputs": [
    {
     "data": {
      "text/plain": [
       "'(+city:poland +city:street +city:w1v) (+country:poland +country:street +country:w1v) (+postcode:poland +postcode:street +postcode:w1v) (+street:poland +street:street +street:w1v)'"
      ]
     },
     "execution_count": 25,
     "metadata": {},
     "output_type": "execute_result"
    }
   ],
   "source": [
    "# Adding the **and** operator\n",
    "body= {\n",
    "  \"query\": {\n",
    "    \"multi_match\": {\n",
    "      \"query\":   \"Poland Street W1V\",\n",
    "      \"type\":    \"most_fields\",\n",
    "      \"operator\": \"and\",\n",
    "      \"fields\":  [ \"street\", \"city\", \"country\", \"postcode\" ]\n",
    "    }\n",
    "  }\n",
    "}\n",
    "es.indices.validate_query(index='my_index', body=body, explain=1)\\\n",
    "    ['explanations'][0]['explanation']"
   ]
  },
  {
   "cell_type": "markdown",
   "metadata": {},
   "source": [
    "This shows that all words must exist (+) in the same field, which is clearly wrong! It is unlikely that any documents would match this query.\n",
    "\n",
    "##### Problem 3 - Term Frequencies\n",
    "\n",
    "In [What Is Relevance?](https://www.elastic.co/guide/en/elasticsearch/guide/master/relevance-intro.html), we explained that the default similarity algorithm used to calculate the relevance score for each term is TF/IDF:\n",
    "\n",
    "##### Term frequency\n",
    ">The more often a term appears in a field in a single document, the more relevant the document.\n",
    "\n",
    "##### Inverse document frequency\n",
    ">The more often a term appears in a field in all documents in the index, the less relevant is that term.\n",
    "\n",
    "When searching against multiple fields, TF/IDF can introduce some surprising results.\n",
    "\n",
    "Consider searching for “Peter Smith” using `first_name` and `last_name` fields. Peter is a common first name and Smith is a common last name, so both will have low IDFs. But what if we have another person in the index whose name is Smith Williams? Smith as a first name is very uncommon and so will have a high IDF!\n",
    "\n",
    "A simple query like the following may well return Smith Williams above Peter Smith in spite of the fact that the second person is a better match than the first.\n",
    "\n",
    "`\n",
    "{\n",
    "    \"query\": {\n",
    "        \"multi_match\": {\n",
    "            \"query\":       \"Peter Smith\",\n",
    "            \"type\":        \"most_fields\",\n",
    "            \"fields\":      [ \"*_name\" ]\n",
    "        }\n",
    "    }\n",
    "}\n",
    "`\n",
    "The high IDF of smith in the first name field can overwhelm the two low IDFs of peter as a first name and smith as a last name.\n",
    "\n",
    "#### Solution\n",
    "\n",
    "These problems only exist because we are dealing with multiple fields. If we were to combine all of these fields into a single field, the problems would vanish. We could achieve this by adding a full_name field to our person document:\n",
    "\n",
    "`\n",
    "{\n",
    "    \"first_name\":  \"Peter\",\n",
    "    \"last_name\":   \"Smith\",\n",
    "    \"full_name\":   \"Peter Smith\"\n",
    "}`\n",
    "\n",
    "When querying just the full_name field:\n",
    "\n",
    "* Documents with more matching words would trump documents with the same word repeated.\n",
    "* The minimum_should_match and operator parameters would function as expected.\n",
    "* The inverse document frequencies for first and last names would be combined so it wouldn’t matter whether Smith were a first or last name anymore.\n",
    "\n",
    "While this would work, we don’t like having to store redundant data. Instead, Elasticsearch offers us two solutions—one at index time and one at search time:\n",
    "\n",
    "#### Custom `_all` Fields\n",
    "\n",
    "The [Metadata: _all Field](https://www.elastic.co/guide/en/elasticsearch/guide/master/root-object.html#all-field) stored all values from all fields as one big string. A more flexible approach is an `_all` field for the person’s name, and another custom `_all` field for the address. \n",
    "\n",
    "This can be done using the `copy_to` parameter in field mappings:\n",
    "\n",
    "`PUT /my_index\n",
    "{\n",
    "    \"mappings\": {\n",
    "        \"person\": {\n",
    "            \"properties\": {\n",
    "                \"first_name\": {\n",
    "                    \"type\":     \"string\",\n",
    "                    \"copy_to\":  \"full_name\" \n",
    "                },\n",
    "                \"last_name\": {\n",
    "                    \"type\":     \"string\",\n",
    "                    \"copy_to\":  \"full_name\" \n",
    "                },\n",
    "                \"full_name\": {\n",
    "                    \"type\":     \"string\"\n",
    "                }\n",
    "            }\n",
    "        }\n",
    "    }\n",
    "}\n",
    "`"
   ]
  },
  {
   "cell_type": "markdown",
   "metadata": {},
   "source": [
    "With this mapping in place, we can query the `first_name` field for first names, the `last_name` field for last name, or the `full_name` field for first and last names.\n",
    "\n",
    "**NOTE:** The copy_to setting will not work on a multi-field. If you attempt to configure your mapping this way, Elasticsearch will throw an exception.\n",
    "\n",
    "Just add the `copy_to` to the main field, **not** the multi-field:\n",
    "\n",
    "`\n",
    "PUT /my_index\n",
    "{\n",
    "    \"mappings\": {\n",
    "        \"person\": {\n",
    "            \"properties\": {\n",
    "                \"first_name\": {\n",
    "                    \"type\":     \"string\",\n",
    "                    \"copy_to\":  \"full_name\", \n",
    "                    \"fields\": {\n",
    "                        \"raw\": {\n",
    "                            \"type\": \"string\",\n",
    "                            \"index\": \"not_analyzed\"\n",
    "                        }\n",
    "                    }\n",
    "                },\n",
    "                \"full_name\": {\n",
    "                    \"type\":     \"string\"\n",
    "                }\n",
    "            }\n",
    "        }\n",
    "    }\n",
    "}\n",
    "`"
   ]
  },
  {
   "cell_type": "code",
   "execution_count": null,
   "metadata": {
    "collapsed": true
   },
   "outputs": [],
   "source": []
  }
 ],
 "metadata": {
  "kernelspec": {
   "display_name": "Python 3",
   "language": "python",
   "name": "python3"
  },
  "language_info": {
   "codemirror_mode": {
    "name": "ipython",
    "version": 3
   },
   "file_extension": ".py",
   "mimetype": "text/x-python",
   "name": "python",
   "nbconvert_exporter": "python",
   "pygments_lexer": "ipython3",
   "version": "3.5.1"
  }
 },
 "nbformat": 4,
 "nbformat_minor": 0
}
