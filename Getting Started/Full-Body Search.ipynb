{
 "cells": [
  {
   "cell_type": "markdown",
   "metadata": {},
   "source": [
    "## Elasticsearch: The Definitive Guide - Python\n",
    "\n",
    "Following the examples in the book, here are Python snippets that achieve the same effect.\n",
    "\n",
    "Documentation for the Python libs:\n",
    "\n",
    "Low-level API:\n",
    "\n",
    "https://elasticsearch-py.readthedocs.io/en/master/index.html\n",
    "\n",
    "Expressive DSL API (more \"Pythonic\")\n",
    "\n",
    "http://elasticsearch-dsl.readthedocs.io/en/latest/index.html\n",
    "\n",
    "Github repo for DSL API:\n",
    "\n",
    "https://github.com/elastic/elasticsearch-dsl-py\n"
   ]
  },
  {
   "cell_type": "code",
   "execution_count": 57,
   "metadata": {
    "collapsed": false
   },
   "outputs": [],
   "source": [
    "from elasticsearch import Elasticsearch\n",
    "from elasticsearch_dsl import Search, Q\n",
    "from pprint import pprint\n",
    "\n",
    "es = Elasticsearch(\n",
    "    'localhost',\n",
    "    # sniff before doing anything\n",
    "    sniff_on_start=True,\n",
    "    # refresh nodes after a node fails to respond\n",
    "    sniff_on_connection_fail=True,\n",
    "    # and also every 60 seconds\n",
    "    sniffer_timeout=60\n",
    ")\n",
    "\n",
    "# Let's repopulate the index as we deleted 'gb' in earlier chapters:\n",
    "# Run the script: populate.ipynb"
   ]
  },
  {
   "cell_type": "markdown",
   "metadata": {
    "collapsed": true
   },
   "source": [
    " Search lite—a query-string search—is useful for ad hoc queries from the command line. To harness the full power of search, however, you should use the request body search API, so called because most parameters are passed in the HTTP request body instead of in the query string.\n",
    "\n",
    "Request body search—henceforth known as search—not only handles the query itself, but also allows you to return highlighted snippets from your results, aggregate analytics across all results or subsets of results, and return did-you-mean suggestions, which will help guide your users to the best results quickly.\n",
    "\n",
    "### Empty Search\n",
    "\n",
    "> GET _search\n",
    "\n",
    "Returns all docs in an index. We already covered this when looking at query string search, so the techniques are similar in Python:"
   ]
  },
  {
   "cell_type": "code",
   "execution_count": 58,
   "metadata": {
    "collapsed": true
   },
   "outputs": [],
   "source": [
    "res = es.search('_all') # same as es.search()"
   ]
  },
  {
   "cell_type": "code",
   "execution_count": 59,
   "metadata": {
    "collapsed": false
   },
   "outputs": [],
   "source": [
    "s = Search(using=es)\n",
    "response = s.execute()"
   ]
  },
  {
   "cell_type": "markdown",
   "metadata": {},
   "source": [
    ">GET /index_2014*/type1,type2/_search\n",
    ">{}"
   ]
  },
  {
   "cell_type": "code",
   "execution_count": 60,
   "metadata": {
    "collapsed": false
   },
   "outputs": [],
   "source": [
    "# Using index, types from our test data rather than the actual example above:\n",
    "res = es.search(index='us', doc_type='tweet,user')"
   ]
  },
  {
   "cell_type": "code",
   "execution_count": 61,
   "metadata": {
    "collapsed": true
   },
   "outputs": [],
   "source": [
    "s = Search(using=es, index=['us'], doc_type=['user','tweet'])\n",
    "response = s.execute()"
   ]
  },
  {
   "cell_type": "markdown",
   "metadata": {},
   "source": [
    "And the same from and size parameters (using different examples from book as our index does not span from 30 to size 10 (i.e. 40)."
   ]
  },
  {
   "cell_type": "code",
   "execution_count": 62,
   "metadata": {
    "collapsed": false
   },
   "outputs": [
    {
     "data": {
      "text/plain": [
       "{'hits': [{'_id': '6',\n",
       "   '_index': 'us',\n",
       "   '_score': 1.0,\n",
       "   '_source': {'date': '2014-09-16',\n",
       "    'name': 'John Smith',\n",
       "    'tweet': 'The Elasticsearch API is really easy to use',\n",
       "    'user_id': 1},\n",
       "   '_type': 'tweet'},\n",
       "  {'_id': '1',\n",
       "   '_index': 'us',\n",
       "   '_score': 1.0,\n",
       "   '_source': {'email': 'john@smith.com',\n",
       "    'name': 'John Smith',\n",
       "    'username': '@john'},\n",
       "   '_type': 'user'}],\n",
       " 'max_score': 1.0,\n",
       " 'total': 7}"
      ]
     },
     "execution_count": 62,
     "metadata": {},
     "output_type": "execute_result"
    }
   ],
   "source": [
    "# Using index, types from our test data rather than the actual example above:\n",
    "res = es.search(index='us', doc_type='tweet,user', from_=5, size=5)\n",
    "res['hits']"
   ]
  },
  {
   "cell_type": "markdown",
   "metadata": {},
   "source": [
    "There's a more \"Pythonic way\" for the DSL using array slicing:"
   ]
  },
  {
   "cell_type": "code",
   "execution_count": 63,
   "metadata": {
    "collapsed": true
   },
   "outputs": [],
   "source": [
    "s = Search(using=es, index=['us'], doc_type=['user','tweet'])[5:7]\n",
    "response = s.execute()"
   ]
  },
  {
   "cell_type": "code",
   "execution_count": 64,
   "metadata": {
    "collapsed": false
   },
   "outputs": [
    {
     "data": {
      "text/plain": [
       "[<Hit(us/tweet/6): {'name': 'John Smith', 'date': '2014-09-16', 'user_id': 1, '...}>, <Hit(us/user/1): {'email': 'john@smith.com', 'name': 'John Smith', 'username'...}>]"
      ]
     },
     "execution_count": 64,
     "metadata": {},
     "output_type": "execute_result"
    }
   ],
   "source": [
    "response.hits"
   ]
  },
  {
   "cell_type": "markdown",
   "metadata": {},
   "source": [
    "Instead of the cryptic query-string approach, a request body search allows us to write queries by using the query domain-specific language, or query DSL.\n",
    "\n",
    "### \"Elasticsearch\" (i.e. Lucene) Query DSL\n",
    "\n",
    "The Elasticsearch approach is to expose the Lucene query language via a JSON interface via the passing of data into the 'query' parameter:\n",
    "\n",
    ">GET /_search\n",
    "{\n",
    "    \"query\": YOUR_QUERY_HERE\n",
    "}\n",
    "\n",
    "Clearly, if you haven't already figured, any queries like this can be passed into the low-level API via a body document (Python dictionary) that gets fed as a parameter into the call. The API is doing little more than masequerade as an HTTP request with slightly more readable function calls:"
   ]
  },
  {
   "cell_type": "code",
   "execution_count": 65,
   "metadata": {
    "collapsed": false
   },
   "outputs": [],
   "source": [
    "body = {\n",
    "    \"query\": {\n",
    "        \"match_all\": {}\n",
    "    }\n",
    "}\n",
    "res = es.search(body=body)"
   ]
  },
  {
   "cell_type": "code",
   "execution_count": 66,
   "metadata": {
    "collapsed": false
   },
   "outputs": [],
   "source": [
    "body = {\n",
    "    \"query\": {\n",
    "        \"match\": {\n",
    "            \"tweet\": \"elasticsearch\"\n",
    "        }\n",
    "    }\n",
    "}\n",
    "res = es.search(body=body)"
   ]
  },
  {
   "cell_type": "code",
   "execution_count": 67,
   "metadata": {
    "collapsed": true
   },
   "outputs": [],
   "source": [
    "body = {\n",
    "    \"query\": {\n",
    "        \"bool\": {\n",
    "            \"must\":     { \"match\": { \"tweet\": \"elasticsearch\" }},\n",
    "            \"must_not\": { \"match\": { \"name\":  \"mary\" }},\n",
    "            \"should\":   { \"match\": { \"tweet\": \"full text\" }},\n",
    "            \"filter\":   { \"range\": { \"age\" : { \"gt\" : 30 }} }\n",
    "                }\n",
    "        }\n",
    "}"
   ]
  },
  {
   "cell_type": "code",
   "execution_count": 68,
   "metadata": {
    "collapsed": false
   },
   "outputs": [],
   "source": [
    "res = es.search(body=body)"
   ]
  },
  {
   "cell_type": "code",
   "execution_count": 69,
   "metadata": {
    "collapsed": false
   },
   "outputs": [
    {
     "data": {
      "text/plain": [
       "{'_shards': {'failed': 0, 'successful': 21, 'total': 21},\n",
       " 'hits': {'hits': [], 'max_score': None, 'total': 0},\n",
       " 'timed_out': False,\n",
       " 'took': 2}"
      ]
     },
     "execution_count": 69,
     "metadata": {},
     "output_type": "execute_result"
    }
   ],
   "source": [
    "res"
   ]
  },
  {
   "cell_type": "markdown",
   "metadata": {},
   "source": [
    "Zero results here because our filter doesn't match. We have no age data in the docs. So let's first add some age data to make this example more interesting, especially before switching to the Pythonic DSL."
   ]
  },
  {
   "cell_type": "code",
   "execution_count": 70,
   "metadata": {
    "collapsed": false
   },
   "outputs": [],
   "source": [
    "doc = { \n",
    "    \"date\" : \"2014-09-24\", \n",
    "    \"name\" : \"Ken Dodd\", \n",
    "    \"tweet\" : \"Am I a twittiot for tweeting about elasticsearch?\", \n",
    "    \"user_id\" : 17,\n",
    "    \"age\": 74\n",
    "}"
   ]
  },
  {
   "cell_type": "code",
   "execution_count": 71,
   "metadata": {
    "collapsed": false
   },
   "outputs": [],
   "source": [
    "res = es.create(index='gb', doc_type='tweet', body=doc, id=201)"
   ]
  },
  {
   "cell_type": "code",
   "execution_count": 74,
   "metadata": {
    "collapsed": true
   },
   "outputs": [],
   "source": [
    "body = {\n",
    "    \"query\": {\n",
    "        \"bool\": {\n",
    "            \"must\":     { \"match\": { \"tweet\": \"elasticsearch\" }},\n",
    "            \"must_not\": { \"match\": { \"name\":  \"mary\" }},\n",
    "            \"should\":   { \"match\": { \"tweet\": \"full text\" }},\n",
    "            \"filter\":   { \"range\": { \"age\" : { \"gt\" : 30 }} }\n",
    "                }\n",
    "        }\n",
    "}\n",
    "res = es.search(body=body)"
   ]
  },
  {
   "cell_type": "code",
   "execution_count": 75,
   "metadata": {
    "collapsed": false
   },
   "outputs": [
    {
     "data": {
      "text/plain": [
       "{'_shards': {'failed': 0, 'successful': 21, 'total': 21},\n",
       " 'hits': {'hits': [{'_id': '201',\n",
       "    '_index': 'gb',\n",
       "    '_score': 0.4256207,\n",
       "    '_source': {'age': 74,\n",
       "     'date': '2014-09-24',\n",
       "     'name': 'Ken Dodd',\n",
       "     'tweet': 'Am I a twittiot for tweeting about elasticsearch?',\n",
       "     'user_id': 17},\n",
       "    '_type': 'tweet'}],\n",
       "  'max_score': 0.4256207,\n",
       "  'total': 1},\n",
       " 'timed_out': False,\n",
       " 'took': 2}"
      ]
     },
     "execution_count": 75,
     "metadata": {},
     "output_type": "execute_result"
    }
   ],
   "source": [
    "res"
   ]
  },
  {
   "cell_type": "markdown",
   "metadata": {},
   "source": [
    "Of course, when using DSL, this is when the Python DSL library seems more attractive. What follows are DSL variants of above searches..."
   ]
  },
  {
   "cell_type": "code",
   "execution_count": 78,
   "metadata": {
    "collapsed": true
   },
   "outputs": [],
   "source": [
    "s = Search(using=es).query() # same as match-all\n",
    "response = s.execute()"
   ]
  },
  {
   "cell_type": "code",
   "execution_count": 81,
   "metadata": {
    "collapsed": false
   },
   "outputs": [
    {
     "data": {
      "text/plain": [
       "21"
      ]
     },
     "execution_count": 81,
     "metadata": {},
     "output_type": "execute_result"
    }
   ],
   "source": [
    "response.hits.total"
   ]
  },
  {
   "cell_type": "code",
   "execution_count": 82,
   "metadata": {
    "collapsed": false
   },
   "outputs": [
    {
     "data": {
      "text/plain": [
       "True"
      ]
     },
     "execution_count": 82,
     "metadata": {},
     "output_type": "execute_result"
    }
   ],
   "source": [
    "# same, but with chaining \n",
    "s = Search(using=es)\n",
    "s = s.query()\n",
    "s.execute() == response"
   ]
  },
  {
   "cell_type": "code",
   "execution_count": 83,
   "metadata": {
    "collapsed": false
   },
   "outputs": [
    {
     "data": {
      "text/plain": [
       "True"
      ]
     },
     "execution_count": 83,
     "metadata": {},
     "output_type": "execute_result"
    }
   ],
   "source": [
    "# same, but with chaining and explicitly invoking match_all\n",
    "s = Search(using=es)\n",
    "s = s.query('match_all')\n",
    "s.execute() == response"
   ]
  },
  {
   "cell_type": "code",
   "execution_count": 84,
   "metadata": {
    "collapsed": false
   },
   "outputs": [
    {
     "data": {
      "text/plain": [
       "True"
      ]
     },
     "execution_count": 84,
     "metadata": {},
     "output_type": "execute_result"
    }
   ],
   "source": [
    "body = {\n",
    "    \"query\": {\n",
    "        \"match\": {\n",
    "            \"tweet\": \"elasticsearch\"\n",
    "        }\n",
    "    }\n",
    "}\n",
    "res = es.search(body=body)\n",
    "# DSL equivalent\n",
    "s = Search(using=es)\n",
    "s = s.query('match', tweet='elasticsearch')\n",
    "s.execute() == res"
   ]
  },
  {
   "cell_type": "markdown",
   "metadata": {},
   "source": [
    "Now invoke the Q shortcut to construct the more elaborate searches more expressively in Python."
   ]
  },
  {
   "cell_type": "code",
   "execution_count": 85,
   "metadata": {
    "collapsed": false
   },
   "outputs": [],
   "source": [
    "body = {\n",
    "    \"query\": {\n",
    "        \"bool\": {\n",
    "            \"must\":     { \"match\": { \"tweet\": \"elasticsearch\" }},\n",
    "            \"must_not\": { \"match\": { \"name\":  \"mary\" }},\n",
    "            \"should\":   { \"match\": { \"tweet\": \"full text\" }},\n",
    "            \"filter\":   { \"range\": { \"age\" : { \"gt\" : 30 }} }\n",
    "                }\n",
    "        }\n",
    "}\n",
    "res = es.search(body=body)\n",
    "# Let's line up some various ways to mention this with Q objects\n",
    "q1 = Q('match', tweet='elasticsearch')\n",
    "q2 = Q('match', name='mary')\n",
    "q3 = Q('match', tweet='full text')\n",
    "q = Q('bool', must=q1, must_not=q2, should=q3)"
   ]
  },
  {
   "cell_type": "code",
   "execution_count": 86,
   "metadata": {
    "collapsed": false
   },
   "outputs": [
    {
     "data": {
      "text/plain": [
       "True"
      ]
     },
     "execution_count": 86,
     "metadata": {},
     "output_type": "execute_result"
    }
   ],
   "source": [
    "# DSL equivalent\n",
    "s = Search(using=es)\n",
    "s = s.query(q).filter('range', age={\"gt\": 30})\n",
    "s.execute() == res"
   ]
  },
  {
   "cell_type": "code",
   "execution_count": 87,
   "metadata": {
    "collapsed": true
   },
   "outputs": [],
   "source": [
    "# Another variant:\n",
    "q = q1 & ~q2 | q3"
   ]
  },
  {
   "cell_type": "code",
   "execution_count": 88,
   "metadata": {
    "collapsed": false
   },
   "outputs": [
    {
     "data": {
      "text/plain": [
       "True"
      ]
     },
     "execution_count": 88,
     "metadata": {},
     "output_type": "execute_result"
    }
   ],
   "source": [
    "s = Search(using=es)\n",
    "s = s.query(q).filter('range', age={\"gt\": 30})\n",
    "s.execute() == res"
   ]
  },
  {
   "cell_type": "code",
   "execution_count": 89,
   "metadata": {
    "collapsed": false
   },
   "outputs": [
    {
     "name": "stdout",
     "output_type": "stream",
     "text": [
      "Bool(should=[Bool(must=[Match(tweet='elasticsearch')], must_not=[Match(name='mary')]), Match(tweet='full text')])\n"
     ]
    }
   ],
   "source": [
    "print(q)"
   ]
  },
  {
   "cell_type": "markdown",
   "metadata": {},
   "source": [
    "### Filtering vs. Querying\n",
    "\n",
    "Recap of chapter: filtering is non-scoring whereas querying is scoring. Filtering is more efficient because no need to fetch and also calculate the _score. Therefore, the best use of filtering is to reduce the number of docs that have to be scored.\n",
    "\n",
    "As a general rule, use query clauses for full-text search or for any condition that should affect the relevance score, and use filters for everything else.\n",
    "\n",
    "### Most Important Queries\n",
    "\n",
    "#### match_all Query\n",
    "\n",
    "The match_all query happens often with a filter - i.e. to grab a bunch of docs without care about relevance, such as all the docs in a category (that doesn't need ordering). All docs are considered equally relevant and so receive a neutral _score of 1.\n",
    "\n",
    "#### match Query\n",
    "\n",
    "The match query should be the standard query that you reach for whenever you want to query for a full-text or exact value in almost any field.\n",
    "\n",
    "If you run a match query against a full-text field, it will analyze the query string by using the correct analyzer for that field before executing the search:\n",
    "\n",
    "> ```{ \"match\": { \"tweet\": \"About Search\" }}```\n",
    "\n",
    "If you use it on a field containing an exact value, such as a number, a date, a Boolean, or a not_analyzed string field, then it will search for that **exact value**:\n",
    "\n",
    "> ```{ \"match\": { \"age\":    26           }}```\n",
    "\n",
    "> ```{ \"match\": { \"date\":   \"2014-09-01\" }}```\n",
    "\n",
    "> ```{ \"match\": { \"public\": true         }}```\n",
    "\n",
    "> ```{ \"match\": { \"tag\":    \"full_text\"  }}```\n",
    "\n",
    "TIP: For exact-value searches, you probably want to use a filter clause instead of a query, as a filter will be cached. We’ll see some filtering examples soon.\n",
    "\n",
    "#### term Query\n",
    "\n",
    "The term query is used to search by exact values, be they numbers, dates, Booleans, or not_analyzed exact-value string fields:\n",
    "\n",
    "> ```{ \"term\": { \"age\":    26           }}```\n",
    "\n",
    "> ```{ \"term\": { \"date\":   \"2014-09-01\" }}```\n",
    "\n",
    "> ```{ \"term\": { \"public\": true         }}```\n",
    "\n",
    "> ```{ \"term\": { \"tag\":    \"full_text\"  }}```\n",
    "\n",
    "#### terms Query\n",
    "\n",
    "The terms query is the same as the term query, but allows you to specify multiple values to match. If the field contains any of the specified values, the document matches:\n",
    "\n",
    "> ```{ \"terms\": { \"tag\": [ \"search\", \"full_text\", \"nosql\" ] }}```\n",
    "\n",
    "#### exists and missing Queries\n",
    "\n",
    "The exists and missing queries are used to find documents in which the specified field either has one or more values (exists) or doesn’t have any values (missing). It is similar in nature to IS_NULL (missing) and NOT IS_NULL (exists) in SQL:\n",
    "\n",
    "```\n",
    "{\n",
    "    \"exists\":   {\n",
    "        \"field\":    \"title\"\n",
    "    }\n",
    "}\n",
    "```\n",
    "\n",
    "### Combining Queries Together (Boolean)\n",
    "\n",
    "Real-world queries are often complex, so they reqire combination of qualifiers. For this, use the ```bool``` query.\n",
    "\n",
    "##### must\n",
    "Clauses that must match for the document to be included.\n",
    "##### must_not\n",
    "Clauses that must not match for the document to be included.\n",
    "##### should\n",
    "If these clauses match, **they increase the _score**; otherwise, they have no effect. They are simply used to refine the relevance score for each document.\n",
    "##### filter\n",
    "Clauses that must match, but are run in non-scoring, filtering mode. These clauses do not contribute to the score, instead they simply include/exclude documents based on their criteria.\n",
    "\n",
    "Because this is the first query we’ve seen that contains other queries, we need to talk about how scores are combined. Each sub-query clause will individually calculate a relevance score for the document. Once these scores are calculated, the bool query will merge the scores together and return a single score representing the total score of the boolean operation.\n",
    "\n",
    "The following query finds documents whose title field matches the query string how to make millions and that are not marked as spam. If any documents are starred or are from 2014 onward, they will rank higher than they would have otherwise. Documents that match both conditions will rank even higher:\n",
    "\n",
    "```\n",
    "{\n",
    "    \"bool\": {\n",
    "        \"must\":     { \"match\": { \"title\": \"how to make millions\" }},\n",
    "        \"must_not\": { \"match\": { \"tag\":   \"spam\" }},\n",
    "        \"should\": [\n",
    "            { \"match\": { \"tag\": \"starred\" }},\n",
    "            { \"range\": { \"date\": { \"gte\": \"2014-01-01\" }}}\n",
    "        ]\n",
    "    }\n",
    "}\n",
    "```"
   ]
  },
  {
   "cell_type": "code",
   "execution_count": 93,
   "metadata": {
    "collapsed": false
   },
   "outputs": [],
   "source": [
    "# A reminder of how to do this in Python DSL:\n",
    "s = Search(using=es)\n",
    "s = s.query(Q('bool',\n",
    "              must=Q('match', title='how to make millions'),\n",
    "              must_not=Q('match', tag='spam'),\n",
    "              should=[Q('match', tag='starred'),Q('range', date={'gte':\"2014-01-01\"})]\n",
    "             )\n",
    "            )"
   ]
  },
  {
   "cell_type": "code",
   "execution_count": 94,
   "metadata": {
    "collapsed": false
   },
   "outputs": [
    {
     "data": {
      "text/plain": [
       "<Response: []>"
      ]
     },
     "execution_count": 94,
     "metadata": {},
     "output_type": "execute_result"
    }
   ],
   "source": [
    "s.execute()"
   ]
  },
  {
   "cell_type": "code",
   "execution_count": 95,
   "metadata": {
    "collapsed": false
   },
   "outputs": [
    {
     "data": {
      "text/plain": [
       "{'_id': '1',\n",
       " '_index': 'email',\n",
       " '_shards': {'failed': 0, 'successful': 1, 'total': 2},\n",
       " '_type': 'messages',\n",
       " '_version': 1,\n",
       " 'created': True,\n",
       " 'result': 'created'}"
      ]
     },
     "execution_count": 95,
     "metadata": {},
     "output_type": "execute_result"
    }
   ],
   "source": [
    "# Ok, let's put some docs in place then to make this work:\n",
    "doc = {\n",
    "    'title': 'how to make millions',\n",
    "    'tag': ['spam','deleted'],\n",
    "    'date': '2013-01-01'\n",
    "}\n",
    "es.create(index='email', doc_type='messages', body=doc, id=1)"
   ]
  },
  {
   "cell_type": "code",
   "execution_count": 96,
   "metadata": {
    "collapsed": false
   },
   "outputs": [
    {
     "data": {
      "text/plain": [
       "{'_id': '2',\n",
       " '_index': 'email',\n",
       " '_shards': {'failed': 0, 'successful': 1, 'total': 2},\n",
       " '_type': 'messages',\n",
       " '_version': 1,\n",
       " 'created': True,\n",
       " 'result': 'created'}"
      ]
     },
     "execution_count": 96,
     "metadata": {},
     "output_type": "execute_result"
    }
   ],
   "source": [
    "# Ok, let's put some docs in place then to make this work:\n",
    "doc = {\n",
    "    'title': 'how to make millions',\n",
    "    'tag': ['priority','read'],\n",
    "    'date': '2013-01-01'\n",
    "}\n",
    "es.create(index='email', doc_type='messages', body=doc, id=2)"
   ]
  },
  {
   "cell_type": "code",
   "execution_count": 97,
   "metadata": {
    "collapsed": false
   },
   "outputs": [
    {
     "data": {
      "text/plain": [
       "{'_id': '3',\n",
       " '_index': 'email',\n",
       " '_shards': {'failed': 0, 'successful': 1, 'total': 2},\n",
       " '_type': 'messages',\n",
       " '_version': 1,\n",
       " 'created': True,\n",
       " 'result': 'created'}"
      ]
     },
     "execution_count": 97,
     "metadata": {},
     "output_type": "execute_result"
    }
   ],
   "source": [
    "# Ok, let's put some docs in place then to make this work:\n",
    "doc = {\n",
    "    'title': 'how to make millions',\n",
    "    'tag': ['priority','starred'],\n",
    "    'date': '2013-01-01'\n",
    "}\n",
    "es.create(index='email', doc_type='messages', body=doc, id=3)"
   ]
  },
  {
   "cell_type": "code",
   "execution_count": 98,
   "metadata": {
    "collapsed": false
   },
   "outputs": [],
   "source": [
    "s = Search(using=es)\n",
    "s = s.query(Q('bool',\n",
    "              must=Q('match', title='how to make millions'),\n",
    "              must_not=Q('match', tag='spam'),\n",
    "              should=[Q('match', tag='starred'),Q('range', date={'gte':\"2013-01-01\"})]\n",
    "             )\n",
    "            )"
   ]
  },
  {
   "cell_type": "code",
   "execution_count": 99,
   "metadata": {
    "collapsed": false
   },
   "outputs": [],
   "source": [
    "res = s.execute()"
   ]
  },
  {
   "cell_type": "code",
   "execution_count": 100,
   "metadata": {
    "collapsed": false
   },
   "outputs": [
    {
     "name": "stdout",
     "output_type": "stream",
     "text": [
      "2.4088445 3\n",
      "2.1507282 2\n"
     ]
    }
   ],
   "source": [
    "for hit in res:\n",
    "    print(hit.meta.score, hit.meta.id)"
   ]
  },
  {
   "cell_type": "markdown",
   "metadata": {},
   "source": [
    "Note that the doc with _id=3 (which has a tag of 'starred') has a higher _score.\n",
    "\n",
    "Now, in this case, the date range is part of the query and so contributes towards the score. If we don't want date to affect the score, then we can move it to a filter:\n",
    "\n",
    "```\n",
    "{\n",
    "    \"bool\": {\n",
    "        \"must\":     { \"match\": { \"title\": \"how to make millions\" }},\n",
    "        \"must_not\": { \"match\": { \"tag\":   \"spam\" }},\n",
    "        \"should\": [\n",
    "            { \"match\": { \"tag\": \"starred\" }}\n",
    "        ],\n",
    "        \"filter\": {\n",
    "          \"range\": { \"date\": { \"gte\": \"2014-01-01\" }} \n",
    "        }\n",
    "    }\n",
    "}\n",
    "```"
   ]
  },
  {
   "cell_type": "code",
   "execution_count": 101,
   "metadata": {
    "collapsed": false
   },
   "outputs": [
    {
     "data": {
      "text/plain": [
       "<Response: [<Hit(email/messages/3): {'date': '2013-01-01', 'title': 'how to make millions', 'tag...}>, <Hit(email/messages/2): {'date': '2013-01-01', 'title': 'how to make millions', 'tag...}>]>"
      ]
     },
     "execution_count": 101,
     "metadata": {},
     "output_type": "execute_result"
    }
   ],
   "source": [
    "s = Search(using=es)\n",
    "s = s.query(Q('bool',\n",
    "              must=Q('match', title='how to make millions'),\n",
    "              must_not=Q('match', tag='spam'),\n",
    "              should=Q('match', tag='starred')\n",
    "             )\n",
    "            )\n",
    "s = s.filter('range', date={ \"gte\": \"2013-01-01\" })\n",
    "s.execute()"
   ]
  },
  {
   "cell_type": "code",
   "execution_count": 102,
   "metadata": {
    "collapsed": true
   },
   "outputs": [],
   "source": [
    "filtered_res = s.execute()"
   ]
  },
  {
   "cell_type": "code",
   "execution_count": 103,
   "metadata": {
    "collapsed": false
   },
   "outputs": [
    {
     "data": {
      "text/plain": [
       "False"
      ]
     },
     "execution_count": 103,
     "metadata": {},
     "output_type": "execute_result"
    }
   ],
   "source": [
    "filtered_res == res #different scores => false"
   ]
  },
  {
   "cell_type": "code",
   "execution_count": 104,
   "metadata": {
    "collapsed": false
   },
   "outputs": [
    {
     "data": {
      "text/plain": [
       "<Response: [<Hit(email/messages/3): {'date': '2013-01-01', 'title': 'how to make millions', 'tag...}>, <Hit(email/messages/2): {'date': '2013-01-01', 'title': 'how to make millions', 'tag...}>]>"
      ]
     },
     "execution_count": 104,
     "metadata": {},
     "output_type": "execute_result"
    }
   ],
   "source": [
    "filtered_res"
   ]
  },
  {
   "cell_type": "code",
   "execution_count": 105,
   "metadata": {
    "collapsed": false
   },
   "outputs": [
    {
     "name": "stdout",
     "output_type": "stream",
     "text": [
      "1.4088445 3\n",
      "1.1507283 2\n"
     ]
    }
   ],
   "source": [
    "for hit in filtered_res:\n",
    "    print(hit.meta.score, hit.meta.id)"
   ]
  },
  {
   "cell_type": "markdown",
   "metadata": {},
   "source": [
    "Notice that the scores are different from above."
   ]
  },
  {
   "cell_type": "code",
   "execution_count": 106,
   "metadata": {
    "collapsed": false
   },
   "outputs": [
    {
     "data": {
      "text/plain": [
       "<Response: [<Hit(email/messages/1): {'date': '2013-01-01', 'title': 'how to make millions', 'tag...}>]>"
      ]
     },
     "execution_count": 106,
     "metadata": {},
     "output_type": "execute_result"
    }
   ],
   "source": [
    "# And a filter-only search\n",
    "s = Search(using=es)\n",
    "s = s.filter('term', tag='spam')\n",
    "s.execute()"
   ]
  },
  {
   "cell_type": "markdown",
   "metadata": {},
   "source": [
    "### Validating Queries\n",
    "\n",
    "Queries can become quite complex and, especially when combined with different analyzers and field mappings, can become a bit difficult to follow. The validate-query API can be used to check whether a query is valid.\n",
    "\n",
    "```\n",
    "GET /gb/tweet/_validate/query\n",
    "{\n",
    "   \"query\": {\n",
    "      \"tweet\" : {\n",
    "         \"match\" : \"really powerful\"\n",
    "      }\n",
    "   }\n",
    "}\n",
    "```"
   ]
  },
  {
   "cell_type": "code",
   "execution_count": 107,
   "metadata": {
    "collapsed": false
   },
   "outputs": [
    {
     "data": {
      "text/plain": [
       "{'valid': False}"
      ]
     },
     "execution_count": 107,
     "metadata": {},
     "output_type": "execute_result"
    }
   ],
   "source": [
    "body = {\n",
    "   \"query\": {\n",
    "      \"tweet\" : {\n",
    "         \"match\" : \"really powerful\"\n",
    "      }\n",
    "   }\n",
    "}\n",
    "es.indices.validate_query(index='gb', doc_type='tweet', body=body)"
   ]
  },
  {
   "cell_type": "markdown",
   "metadata": {},
   "source": [
    "Hmmm. It's false. But why? Add an explain request:"
   ]
  },
  {
   "cell_type": "code",
   "execution_count": 108,
   "metadata": {
    "collapsed": false
   },
   "outputs": [
    {
     "data": {
      "text/plain": [
       "{'error': 'org.elasticsearch.common.ParsingException: no [query] registered for [tweet]',\n",
       " 'valid': False}"
      ]
     },
     "execution_count": 108,
     "metadata": {},
     "output_type": "execute_result"
    }
   ],
   "source": [
    "es.indices.validate_query(index='gb', doc_type='tweet', body=body, explain=1)"
   ]
  },
  {
   "cell_type": "markdown",
   "metadata": {},
   "source": [
    "Did you spot why? We mixed up the word tweet and match: try again..."
   ]
  },
  {
   "cell_type": "code",
   "execution_count": 109,
   "metadata": {
    "collapsed": false
   },
   "outputs": [
    {
     "data": {
      "text/plain": [
       "{'_shards': {'failed': 0, 'successful': 1, 'total': 1}, 'valid': True}"
      ]
     },
     "execution_count": 109,
     "metadata": {},
     "output_type": "execute_result"
    }
   ],
   "source": [
    "body = {\n",
    "   \"query\": {\n",
    "      \"match\" : {\n",
    "         \"tweet\" : \"really powerful\"\n",
    "      }\n",
    "   }\n",
    "}\n",
    "es.indices.validate_query(index='gb', doc_type='tweet', body=body)"
   ]
  },
  {
   "cell_type": "markdown",
   "metadata": {},
   "source": [
    "But we can get an explaination for queries that work too..."
   ]
  },
  {
   "cell_type": "code",
   "execution_count": 110,
   "metadata": {
    "collapsed": false
   },
   "outputs": [
    {
     "data": {
      "text/plain": [
       "{'_shards': {'failed': 0, 'successful': 1, 'total': 1},\n",
       " 'explanations': [{'explanation': '+(tweet:realli tweet:power) #(#_type:tweet)',\n",
       "   'index': 'gb',\n",
       "   'valid': True}],\n",
       " 'valid': True}"
      ]
     },
     "execution_count": 110,
     "metadata": {},
     "output_type": "execute_result"
    }
   ],
   "source": [
    "es.indices.validate_query(index='gb', doc_type='tweet', body=body, explain=1)"
   ]
  },
  {
   "cell_type": "markdown",
   "metadata": {},
   "source": [
    "This is telling us how the term \"really\" and \"powerful\" were searched as two single-term values. Let's verify the hits to be sure:"
   ]
  },
  {
   "cell_type": "code",
   "execution_count": 111,
   "metadata": {
    "collapsed": false
   },
   "outputs": [
    {
     "data": {
      "text/plain": [
       "{'_shards': {'failed': 0, 'successful': 21, 'total': 21},\n",
       " 'hits': {'hits': [{'_id': '7',\n",
       "    '_index': 'gb',\n",
       "    '_score': 2.0263429,\n",
       "    '_source': {'date': '2014-09-17',\n",
       "     'name': 'Mary Jones',\n",
       "     'tweet': 'The Query DSL is really powerful and flexible',\n",
       "     'user_id': 2},\n",
       "    '_type': 'tweet'},\n",
       "   {'_id': '9',\n",
       "    '_index': 'gb',\n",
       "    '_score': 0.7076487,\n",
       "    '_source': {'date': '2014-09-19',\n",
       "     'name': 'Mary Jones',\n",
       "     'tweet': 'Geo-location aggregations are really cool',\n",
       "     'user_id': 2},\n",
       "    '_type': 'tweet'},\n",
       "   {'_id': '6',\n",
       "    '_index': 'us',\n",
       "    '_score': 0.6395861,\n",
       "    '_source': {'date': '2014-09-16',\n",
       "     'name': 'John Smith',\n",
       "     'tweet': 'The Elasticsearch API is really easy to use',\n",
       "     'user_id': 1},\n",
       "    '_type': 'tweet'}],\n",
       "  'max_score': 2.0263429,\n",
       "  'total': 3},\n",
       " 'timed_out': False,\n",
       " 'took': 1}"
      ]
     },
     "execution_count": 111,
     "metadata": {},
     "output_type": "execute_result"
    }
   ],
   "source": [
    "es.search(body=body)"
   ]
  },
  {
   "cell_type": "code",
   "execution_count": null,
   "metadata": {
    "collapsed": true
   },
   "outputs": [],
   "source": []
  }
 ],
 "metadata": {
  "kernelspec": {
   "display_name": "Python 3",
   "language": "python",
   "name": "python3"
  },
  "language_info": {
   "codemirror_mode": {
    "name": "ipython",
    "version": 3
   },
   "file_extension": ".py",
   "mimetype": "text/x-python",
   "name": "python",
   "nbconvert_exporter": "python",
   "pygments_lexer": "ipython3",
   "version": "3.5.1"
  }
 },
 "nbformat": 4,
 "nbformat_minor": 0
}
